{
 "cells": [
  {
   "cell_type": "code",
   "execution_count": null,
   "id": "752b8af4",
   "metadata": {},
   "outputs": [],
   "source": [
    "import numpy as np\n",
    "#%matplotlib notebook\n",
    "import matplotlib.pyplot as plt\n",
    "from DensiTDA import landmarktools"
   ]
  },
  {
   "cell_type": "markdown",
   "id": "1d7f3bd0-07d8-4945-a70e-bd53bdda8e87",
   "metadata": {},
   "source": [
    "# Generate a random dataset"
   ]
  },
  {
   "cell_type": "code",
   "execution_count": null,
   "id": "61c7c484",
   "metadata": {},
   "outputs": [],
   "source": [
    "a_1 = [2,1]\n",
    "a_2 = [4,3]\n",
    "a_3 = [7,10]\n",
    "a_4 = [9,13]\n",
    "cov = np.array([[2,1],[1,2]])"
   ]
  },
  {
   "cell_type": "code",
   "execution_count": null,
   "id": "538523ce",
   "metadata": {},
   "outputs": [],
   "source": [
    "X_1 = np.random.multivariate_normal(a_1, 1 * cov, 1000)\n",
    "X_2 = np.random.multivariate_normal(a_2, 0.7 * cov, 500)\n",
    "X_3 = np.random.multivariate_normal(a_3, cov, 200)\n",
    "X_4 = np.random.multivariate_normal(a_4, cov, 100)\n",
    "\n",
    "X = np.concatenate((X_1, X_2, X_3, X_4), axis=0)"
   ]
  },
  {
   "cell_type": "code",
   "execution_count": null,
   "id": "42870869-8195-4842-913d-9276eef0fb12",
   "metadata": {},
   "outputs": [],
   "source": [
    "plt.scatter(X[:,0], X[:,1], color=\"blue\")\n",
    "plt.show()"
   ]
  },
  {
   "cell_type": "markdown",
   "id": "51e8b74e-3968-4fd5-befd-99fa023501a4",
   "metadata": {},
   "source": [
    "# Run Max of Gaussians Landmarking Selection Algorithm"
   ]
  },
  {
   "cell_type": "code",
   "execution_count": null,
   "id": "3d8f0073",
   "metadata": {},
   "outputs": [],
   "source": [
    "# hyperparameters\n",
    "d = X.shape[1]\n",
    "h = np.std(X) * (len(X)) ** (-1 / (d + 4))\n",
    "A = np.ones(len(X))\n",
    "s = 0.6\n",
    "candidate_landmarks = X"
   ]
  },
  {
   "cell_type": "code",
   "execution_count": null,
   "id": "3adfe0d3-28c3-4d71-8d7c-fe9ada11bf0a",
   "metadata": {},
   "outputs": [],
   "source": [
    "chosen_landmarks = landmarktools.max_of_gaussians_landmarking(X, A, candidate_landmarks, h, s)"
   ]
  },
  {
   "cell_type": "markdown",
   "id": "fea79bb1-0863-4d8f-972a-aab01839437c",
   "metadata": {},
   "source": [
    "# Result of Max of Gaussians "
   ]
  },
  {
   "cell_type": "code",
   "execution_count": null,
   "id": "fb244556-86e9-4919-b092-c40205812884",
   "metadata": {},
   "outputs": [],
   "source": [
    "chosen_landmarks = np.array(chosen_landmarks)\n",
    "\n",
    "plt.scatter(X[:,0], X[:,1], color=\"blue\")\n",
    "plt.scatter(chosen_landmarks[:,0], chosen_landmarks[:,1], color=\"orange\")\n",
    "plt.show()"
   ]
  },
  {
   "cell_type": "code",
   "execution_count": null,
   "id": "ba25cddd-743a-4f0d-8fdf-74a6b32879a9",
   "metadata": {},
   "outputs": [],
   "source": [
    "print(\"Precentage of points selected: \", 100 * len(chosen_landmarks) / len(X))"
   ]
  },
  {
   "cell_type": "code",
   "execution_count": null,
   "id": "746e8065-927b-4f59-994a-677d3bca8c4d",
   "metadata": {},
   "outputs": [],
   "source": []
  }
 ],
 "metadata": {
  "kernelspec": {
   "display_name": "Python 3 (ipykernel)",
   "language": "python",
   "name": "python3"
  },
  "language_info": {
   "codemirror_mode": {
    "name": "ipython",
    "version": 3
   },
   "file_extension": ".py",
   "mimetype": "text/x-python",
   "name": "python",
   "nbconvert_exporter": "python",
   "pygments_lexer": "ipython3",
   "version": "3.10.14"
  }
 },
 "nbformat": 4,
 "nbformat_minor": 5
}

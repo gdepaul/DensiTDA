{
 "cells": [
  {
   "cell_type": "code",
   "execution_count": 1,
   "id": "67650833-0631-4e4d-a214-ed0087d9dbfd",
   "metadata": {},
   "outputs": [],
   "source": [
    "import numpy as np \n",
    "from sklearn import preprocessing\n",
    "from scipy.spatial.distance import cdist, pdist, squareform\n",
    "from utils import *\n",
    "import csv"
   ]
  },
  {
   "cell_type": "code",
   "execution_count": 2,
   "id": "62e37529-0740-49d7-a106-fd9d693c0168",
   "metadata": {},
   "outputs": [],
   "source": [
    "bRoll = False\n",
    "dim = 6\n",
    "ph_classes = [0,1] # Decode the ith most persistent cohomology class\n",
    "num_circ = len(ph_classes)\n",
    "dec_tresh = 0.99\n",
    "metric = 'cosine'\n",
    "maxdim = 1\n",
    "coeff = 47\n",
    "active_times = 25000\n",
    "k = 1000\n",
    "num_times = 5\n",
    "n_points = 2500\n",
    "nbs = 800\n",
    "sigma = 1500\n",
    "folder = 'Toroidal_topology_grid_cell_data//' # directory to data"
   ]
  },
  {
   "cell_type": "code",
   "execution_count": 4,
   "id": "b266cb57-cd5b-4007-b33f-1963ba9a269d",
   "metadata": {},
   "outputs": [
    {
     "name": "stdout",
     "output_type": "stream",
     "text": [
      "(25000, 6)\n"
     ]
    }
   ],
   "source": [
    "## Iterates over the different datasets\n",
    "for rat_name, mod_name, sess_name, day_name in [ ('R', '1', 'OF', 'day2') ]:\n",
    "    \n",
    "    if sess_name in ('OF', 'WW'):\n",
    "        sspikes,xx, yy,__,__ = get_spikes(rat_name, mod_name, day_name, sess_name, bType = 'pure',\n",
    "                                         bSmooth = False, bSpeed = True, folder = folder )\n",
    "    else:\n",
    "        sspikes = get_spikes(rat_name, mod_name, day_name, sess_name, bType = 'pure', bSmooth = False, bSpeed = False, folder = folder)\n",
    "\n",
    "    my_shape = sspikes.shape\n",
    "    \n",
    "    with open('spikes_' + rat_name + mod_name + sess_name + day_name + 'size' + str(my_shape[0]) + 'x' + str(my_shape[1]) + '.csv', 'w') as f:\n",
    "        csv.writer(f, delimiter=',').writerows(sspikes)\n",
    "\n",
    "    with open('x_pos_' + rat_name + mod_name + sess_name + day_name + 'size' + str(my_shape[0]) + 'x' + str(my_shape[1]) + '.csv', 'w') as f:\n",
    "        csv.writer(f, delimiter=',').writerows([list(xx)])\n",
    "\n",
    "    with open('y_pos_' + rat_name + mod_name + sess_name + day_name + 'size' + str(my_shape[0]) + 'x' + str(my_shape[1]) + '.csv', 'w') as f:\n",
    "        csv.writer(f, delimiter=',').writerows([list(yy)])\n",
    "\n",
    "    print(my_shape)"
   ]
  },
  {
   "cell_type": "code",
   "execution_count": null,
   "id": "a322a4b6-3918-4040-aeb0-03d7fda09426",
   "metadata": {},
   "outputs": [],
   "source": []
  }
 ],
 "metadata": {
  "kernelspec": {
   "display_name": "Python 3 (ipykernel)",
   "language": "python",
   "name": "python3"
  },
  "language_info": {
   "codemirror_mode": {
    "name": "ipython",
    "version": 3
   },
   "file_extension": ".py",
   "mimetype": "text/x-python",
   "name": "python",
   "nbconvert_exporter": "python",
   "pygments_lexer": "ipython3",
   "version": "3.10.15"
  }
 },
 "nbformat": 4,
 "nbformat_minor": 5
}

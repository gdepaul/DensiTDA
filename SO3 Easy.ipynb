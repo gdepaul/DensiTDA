{
 "cells": [
  {
   "cell_type": "code",
   "execution_count": 1,
   "id": "5b91f73b",
   "metadata": {},
   "outputs": [],
   "source": [
    "import gudhi\n",
    "import matplotlib.pyplot as plot\n",
    "import numpy as np\n",
    "from DensiTDA import alphatools \n",
    "from numpy import genfromtxt\n",
    "from DensiTDA import alphatools "
   ]
  },
  {
   "cell_type": "code",
   "execution_count": 2,
   "id": "b509893d",
   "metadata": {},
   "outputs": [],
   "source": [
    "V = np.array(genfromtxt('datasets/so3land1.csv', delimiter=','))\n",
    "n = len(V)"
   ]
  },
  {
   "cell_type": "code",
   "execution_count": 3,
   "id": "311c5041-784d-45f4-bde8-da68a5d48ccf",
   "metadata": {},
   "outputs": [
    {
     "data": {
      "text/plain": [
       "809"
      ]
     },
     "execution_count": 3,
     "metadata": {},
     "output_type": "execute_result"
    }
   ],
   "source": [
    "len(V)"
   ]
  },
  {
   "cell_type": "code",
   "execution_count": 4,
   "id": "476f9b3c",
   "metadata": {},
   "outputs": [],
   "source": [
    "P = np.zeros((n,1))\n",
    "S = V\n",
    "alpha = 10**2\n",
    "D = 4"
   ]
  },
  {
   "cell_type": "code",
   "execution_count": null,
   "id": "bf4b4fd6",
   "metadata": {},
   "outputs": [
    {
     "name": "stdout",
     "output_type": "stream",
     "text": [
      "Generating 1-Dimensional Weighted Cech Complex\n"
     ]
    },
    {
     "name": "stderr",
     "output_type": "stream",
     "text": [
      "100%|█████████████████████████████████████████████| 1/1 [00:02<00:00,  2.01s/it]\n"
     ]
    },
    {
     "name": "stdout",
     "output_type": "stream",
     "text": [
      "\tTotal Edges of Cech Graph:  18813\n",
      "\tHighest Degree of Cech Graph:  56\n",
      "\tNumber of Connected Components:  1\n",
      "Begin Computing Alpha Complex\n",
      "Preprocessing Dual Matrices:  809\n"
     ]
    },
    {
     "name": "stderr",
     "output_type": "stream",
     "text": [
      "100%|████████████████████████████████████████| 809/809 [00:05<00:00, 144.13it/s]\n"
     ]
    },
    {
     "name": "stdout",
     "output_type": "stream",
     "text": [
      "*********** BEGIN DIMENSION 0 ***********\n",
      "\tPossible Facets:  809\n"
     ]
    },
    {
     "name": "stderr",
     "output_type": "stream",
     "text": [
      "100%|████████████████████████████████████████| 809/809 [00:01<00:00, 470.40it/s]\n"
     ]
    },
    {
     "name": "stdout",
     "output_type": "stream",
     "text": [
      "\tFinal Number of Facets:  809\n",
      "*********** BEGIN DIMENSION 1 ***********\n",
      "\tPossible Facets:  18813\n"
     ]
    },
    {
     "name": "stderr",
     "output_type": "stream",
     "text": [
      "100%|████████████████████████████████████| 18813/18813 [01:03<00:00, 297.78it/s]\n"
     ]
    },
    {
     "name": "stdout",
     "output_type": "stream",
     "text": [
      "\tFinal Number of Facets:  7717\n",
      "*********** BEGIN DIMENSION 2 ***********\n",
      "Estimating Number of Facets for dimension  2\n",
      "\tPossible Facets:  19325\n"
     ]
    },
    {
     "name": "stderr",
     "output_type": "stream",
     "text": [
      "100%|████████████████████████████████████| 19325/19325 [01:03<00:00, 302.93it/s]\n"
     ]
    },
    {
     "name": "stdout",
     "output_type": "stream",
     "text": [
      "\tFinal Number of Facets:  17694\n",
      "*********** BEGIN DIMENSION 3 ***********\n",
      "Estimating Number of Facets for dimension  3\n",
      "\tPossible Facets:  86584\n"
     ]
    },
    {
     "name": "stderr",
     "output_type": "stream",
     "text": [
      "100%|████████████████████████████████████| 86584/86584 [04:50<00:00, 298.50it/s]\n"
     ]
    },
    {
     "name": "stdout",
     "output_type": "stream",
     "text": [
      "\tFinal Number of Facets:  15490\n",
      "*********** BEGIN DIMENSION 4 ***********\n",
      "Estimating Number of Facets for dimension  4\n",
      "\tPossible Facets:  17295\n"
     ]
    },
    {
     "name": "stderr",
     "output_type": "stream",
     "text": [
      " 79%|████████████████████████████▌       | 13749/17295 [00:46<00:11, 298.32it/s]"
     ]
    }
   ],
   "source": [
    "my_alpha_complex = alphatools.compute_alpha_complex(S, P, alpha, D)"
   ]
  },
  {
   "cell_type": "code",
   "execution_count": null,
   "id": "d778ac07-7164-481d-b357-4bc0a9f3c7a8",
   "metadata": {},
   "outputs": [],
   "source": [
    "# In the paper, it has (809, 7717, 17694, 15490, 5599)"
   ]
  },
  {
   "cell_type": "code",
   "execution_count": null,
   "id": "fe6c8343",
   "metadata": {},
   "outputs": [],
   "source": [
    "filtration = []\n",
    "for d in range(D + 1):\n",
    "    filtration += my_alpha_complex[d]"
   ]
  },
  {
   "cell_type": "code",
   "execution_count": null,
   "id": "56d9cca3",
   "metadata": {},
   "outputs": [],
   "source": [
    "example2 = gudhi.SimplexTree()\n",
    "for d in range(D + 1):\n",
    "    for facet, val in my_alpha_complex[d]:\n",
    "        example2.insert(facet, filtration=val)"
   ]
  },
  {
   "cell_type": "code",
   "execution_count": null,
   "id": "21a88ea7-5b38-4b56-a887-cbb2fdbf47e7",
   "metadata": {},
   "outputs": [],
   "source": [
    "my_persistence = example2.persistence(homology_coeff_field = 2)\n",
    "\n",
    "etti_numbers = {}\n",
    "for i in range(D):\n",
    "    betti_numbers[i] = 0\n",
    "for bar, bd in my_persistence:\n",
    "    if bd[1] > 10000: \n",
    "        betti_numbers[bar] += 1\n",
    "\n",
    "print(\"Betti Numbers up to Dimension 3 over the field F_2\")\n",
    "betti_numbers"
   ]
  },
  {
   "cell_type": "code",
   "execution_count": null,
   "id": "fce560b1-95a4-4c74-93f3-936f4c3b92cd",
   "metadata": {},
   "outputs": [],
   "source": [
    "my_persistence = example2.persistence(homology_coeff_field = 3)\n",
    "\n",
    "etti_numbers = {}\n",
    "for i in range(D):\n",
    "    betti_numbers[i] = 0\n",
    "for bar, bd in my_persistence:\n",
    "    if bd[1] > 10000: \n",
    "        betti_numbers[bar] += 1\n",
    "\n",
    "print(\"Betti Numbers up to Dimension 3 over the field F_3\")\n",
    "betti_numbers"
   ]
  },
  {
   "cell_type": "code",
   "execution_count": null,
   "id": "e3aa5ee2-d57c-4a14-9a86-212842ca640b",
   "metadata": {},
   "outputs": [],
   "source": []
  }
 ],
 "metadata": {
  "kernelspec": {
   "display_name": "Python 3 (ipykernel)",
   "language": "python",
   "name": "python3"
  },
  "language_info": {
   "codemirror_mode": {
    "name": "ipython",
    "version": 3
   },
   "file_extension": ".py",
   "mimetype": "text/x-python",
   "name": "python",
   "nbconvert_exporter": "python",
   "pygments_lexer": "ipython3",
   "version": "3.10.14"
  }
 },
 "nbformat": 4,
 "nbformat_minor": 5
}

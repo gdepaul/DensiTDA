{
 "cells": [
  {
   "cell_type": "code",
   "execution_count": null,
   "id": "752b8af4",
   "metadata": {},
   "outputs": [],
   "source": [
    "import numpy as np\n",
    "import matplotlib.pyplot as plt\n",
    "from DensiTDA import landmarktools\n",
    "from numpy import genfromtxt"
   ]
  },
  {
   "cell_type": "markdown",
   "id": "1d7f3bd0-07d8-4945-a70e-bd53bdda8e87",
   "metadata": {},
   "source": [
    "# Load Species"
   ]
  },
  {
   "cell_type": "code",
   "execution_count": null,
   "id": "61c7c484",
   "metadata": {},
   "outputs": [],
   "source": [
    "V = np.array(genfromtxt('datasets/species.csv', delimiter=','))"
   ]
  },
  {
   "cell_type": "code",
   "execution_count": null,
   "id": "dba57b99-675f-4c69-b142-a53b519358bd",
   "metadata": {},
   "outputs": [],
   "source": [
    "fig, ax = plt.subplots()\n",
    "for species_type in reversed(list(set(V[:,0]))):\n",
    "    curr_types = V[V[:,0] == species_type]\n",
    "    ax.scatter(curr_types[:,1], curr_types[:,2], marker='o', linestyle='', label=species_type)\n",
    "\n",
    "ax.legend()\n",
    "plt.show()"
   ]
  },
  {
   "cell_type": "code",
   "execution_count": null,
   "id": "b033e7c1-fce0-4eef-a1ec-a513dfd3b052",
   "metadata": {},
   "outputs": [],
   "source": [
    "X = V[:,1:]"
   ]
  },
  {
   "cell_type": "code",
   "execution_count": null,
   "id": "c89d8747-9e37-49f9-bc0b-0e48d864b2c4",
   "metadata": {},
   "outputs": [],
   "source": [
    "X.shape"
   ]
  },
  {
   "cell_type": "markdown",
   "id": "51e8b74e-3968-4fd5-befd-99fa023501a4",
   "metadata": {},
   "source": [
    "# Run Max of Gaussians Landmarking Selection Algorithm"
   ]
  },
  {
   "cell_type": "code",
   "execution_count": null,
   "id": "3d8f0073",
   "metadata": {},
   "outputs": [],
   "source": [
    "# hyperparameters\n",
    "d = X.shape[1]\n",
    "h = 2.5 #np.std(X) * (len(X)) ** (-1 / (d + 4))\n",
    "A = np.ones(len(X))\n",
    "s = 0.9\n",
    "\n",
    "candidate_landmarks = X"
   ]
  },
  {
   "cell_type": "code",
   "execution_count": null,
   "id": "3adfe0d3-28c3-4d71-8d7c-fe9ada11bf0a",
   "metadata": {},
   "outputs": [],
   "source": [
    "chosen_landmarks = landmarktools.max_of_gaussians_landmarking(X, A, candidate_landmarks, h, s)"
   ]
  },
  {
   "cell_type": "markdown",
   "id": "fea79bb1-0863-4d8f-972a-aab01839437c",
   "metadata": {},
   "source": [
    "# Result of Max of Gaussians "
   ]
  },
  {
   "cell_type": "code",
   "execution_count": null,
   "id": "fb244556-86e9-4919-b092-c40205812884",
   "metadata": {},
   "outputs": [],
   "source": [
    "chosen_landmarks = np.array(chosen_landmarks)\n",
    "\n",
    "plt.scatter(X[:,0], X[:,1], color=\"blue\")\n",
    "plt.scatter(chosen_landmarks[:,0], chosen_landmarks[:,1], color=\"orange\")\n",
    "plt.show()"
   ]
  },
  {
   "cell_type": "code",
   "execution_count": null,
   "id": "ba25cddd-743a-4f0d-8fdf-74a6b32879a9",
   "metadata": {},
   "outputs": [],
   "source": [
    "print(\"Precentage of points selected: \", 100 * len(chosen_landmarks) / len(X))"
   ]
  },
  {
   "cell_type": "code",
   "execution_count": null,
   "id": "746e8065-927b-4f59-994a-677d3bca8c4d",
   "metadata": {},
   "outputs": [],
   "source": []
  }
 ],
 "metadata": {
  "kernelspec": {
   "display_name": "Python 3 (ipykernel)",
   "language": "python",
   "name": "python3"
  },
  "language_info": {
   "codemirror_mode": {
    "name": "ipython",
    "version": 3
   },
   "file_extension": ".py",
   "mimetype": "text/x-python",
   "name": "python",
   "nbconvert_exporter": "python",
   "pygments_lexer": "ipython3",
   "version": "3.10.14"
  }
 },
 "nbformat": 4,
 "nbformat_minor": 5
}

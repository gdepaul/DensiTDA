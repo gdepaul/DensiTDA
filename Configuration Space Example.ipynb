{
 "cells": [
  {
   "cell_type": "code",
   "execution_count": 1,
   "id": "5b91f73b",
   "metadata": {},
   "outputs": [],
   "source": [
    "## Test quadprog\n",
    "#import daqp\n",
    "import numpy as np\n",
    "from math import comb\n",
    "from ctypes import * \n",
    "import ctypes.util\n",
    "import plotly.graph_objs as go\n",
    "from collections import defaultdict\n",
    "from plotly.offline import iplot\n",
    "import itertools\n",
    "from qpsolvers import solve_qp\n",
    "from tqdm import tqdm\n",
    "import qpsolvers\n",
    "import gudhi\n",
    "import matplotlib.pyplot as plot\n",
    "from numpy import genfromtxt\n",
    "import math\n",
    "from scipy.sparse.csgraph import laplacian\n",
    "from scipy.sparse.csgraph import connected_components\n",
    "\n",
    "from DensiTDA import alphatools "
   ]
  },
  {
   "cell_type": "code",
   "execution_count": 2,
   "id": "b509893d",
   "metadata": {},
   "outputs": [],
   "source": [
    "V = np.array(genfromtxt('confland2.csv', delimiter=','))\n",
    "n = len(V)"
   ]
  },
  {
   "cell_type": "code",
   "execution_count": 3,
   "id": "311c5041-784d-45f4-bde8-da68a5d48ccf",
   "metadata": {},
   "outputs": [
    {
     "data": {
      "text/plain": [
       "20232"
      ]
     },
     "execution_count": 3,
     "metadata": {},
     "output_type": "execute_result"
    }
   ],
   "source": [
    "len(V)"
   ]
  },
  {
   "cell_type": "code",
   "execution_count": 4,
   "id": "476f9b3c",
   "metadata": {},
   "outputs": [],
   "source": [
    "P = np.zeros((n,1))\n",
    "S = V #100*V\n",
    "alpha = 0.35**2\n",
    "D = 6"
   ]
  },
  {
   "cell_type": "code",
   "execution_count": 5,
   "id": "ad48efdb-c574-4a59-8447-27c9329f5ed7",
   "metadata": {},
   "outputs": [],
   "source": [
    "#Y_skel, Y = alphatools.compute_weighted_cech_graph(S, P, alpha)"
   ]
  },
  {
   "cell_type": "code",
   "execution_count": 6,
   "id": "e21e3d3b-7380-404f-9c12-a00c06db03be",
   "metadata": {},
   "outputs": [],
   "source": [
    "#connected_components(Y)"
   ]
  },
  {
   "cell_type": "code",
   "execution_count": 7,
   "id": "bf4b4fd6",
   "metadata": {},
   "outputs": [
    {
     "name": "stdout",
     "output_type": "stream",
     "text": [
      "Generating 1-Dimensional Weighted Cech Complex\n"
     ]
    },
    {
     "name": "stderr",
     "output_type": "stream",
     "text": [
      "100%|█████████████████████████████████████| 20232/20232 [11:34<00:00, 29.13it/s]\n"
     ]
    },
    {
     "name": "stdout",
     "output_type": "stream",
     "text": [
      "\tTotal Edges of Cech Graph:  458184\n",
      "\tHighest Degree of Cech Graph:  81\n",
      "Begin Computing Alpha Complex\n",
      "Preprocessing Dual Matrices:  20232\n"
     ]
    },
    {
     "name": "stderr",
     "output_type": "stream",
     "text": [
      "100%|███████████████████████████████████████████| 21/21 [05:34<00:00, 15.91s/it]\n"
     ]
    },
    {
     "name": "stdout",
     "output_type": "stream",
     "text": [
      "*********** BEGIN DIMENSION 0 ***********\n",
      "\tPossible Facets:  20232\n"
     ]
    },
    {
     "name": "stderr",
     "output_type": "stream",
     "text": [
      "100%|██████████████████████████████████| 20232/20232 [00:01<00:00, 14491.91it/s]\n"
     ]
    },
    {
     "name": "stdout",
     "output_type": "stream",
     "text": [
      "\tFinal Number of Facets:  20232\n",
      "*********** BEGIN DIMENSION 1 ***********\n",
      "\tPossible Facets:  458184\n"
     ]
    },
    {
     "name": "stderr",
     "output_type": "stream",
     "text": [
      "100%|████████████████████████████████| 458184/458184 [00:15<00:00, 29326.74it/s]\n"
     ]
    },
    {
     "name": "stdout",
     "output_type": "stream",
     "text": [
      "\tFinal Number of Facets:  228077\n",
      "*********** BEGIN DIMENSION 2 ***********\n",
      "Estimating Number of Facets for dimension  2\n",
      "\tPossible Facets:  691322\n"
     ]
    },
    {
     "name": "stderr",
     "output_type": "stream",
     "text": [
      "100%|████████████████████████████████| 691322/691322 [00:24<00:00, 28022.56it/s]\n"
     ]
    },
    {
     "name": "stdout",
     "output_type": "stream",
     "text": [
      "\tFinal Number of Facets:  608933\n",
      "*********** BEGIN DIMENSION 3 ***********\n",
      "Estimating Number of Facets for dimension  3\n",
      "\tPossible Facets:  4625888\n"
     ]
    },
    {
     "name": "stderr",
     "output_type": "stream",
     "text": [
      "100%|██████████████████████████████| 4625888/4625888 [02:41<00:00, 28620.87it/s]\n"
     ]
    },
    {
     "name": "stdout",
     "output_type": "stream",
     "text": [
      "\tFinal Number of Facets:  665208\n",
      "*********** BEGIN DIMENSION 4 ***********\n",
      "Estimating Number of Facets for dimension  4\n",
      "\tPossible Facets:  1426440\n"
     ]
    },
    {
     "name": "stderr",
     "output_type": "stream",
     "text": [
      "100%|██████████████████████████████| 1426440/1426440 [00:50<00:00, 28011.02it/s]\n"
     ]
    },
    {
     "name": "stdout",
     "output_type": "stream",
     "text": [
      "\tFinal Number of Facets:  345888\n",
      "*********** BEGIN DIMENSION 5 ***********\n",
      "Estimating Number of Facets for dimension  5\n",
      "\tPossible Facets:  272544\n"
     ]
    },
    {
     "name": "stderr",
     "output_type": "stream",
     "text": [
      "100%|████████████████████████████████| 272544/272544 [00:09<00:00, 27259.04it/s]\n"
     ]
    },
    {
     "name": "stdout",
     "output_type": "stream",
     "text": [
      "\tFinal Number of Facets:  92040\n",
      "*********** BEGIN DIMENSION 6 ***********\n",
      "Estimating Number of Facets for dimension  6\n",
      "\tPossible Facets:  23952\n"
     ]
    },
    {
     "name": "stderr",
     "output_type": "stream",
     "text": [
      "100%|██████████████████████████████████| 23952/23952 [00:00<00:00, 26470.62it/s]\n"
     ]
    },
    {
     "name": "stdout",
     "output_type": "stream",
     "text": [
      "\tFinal Number of Facets:  10272\n"
     ]
    }
   ],
   "source": [
    "my_alpha_complex = alphatools.compute_alpha_complex(S, P, alpha, D)"
   ]
  },
  {
   "cell_type": "code",
   "execution_count": null,
   "id": "d778ac07-7164-481d-b357-4bc0a9f3c7a8",
   "metadata": {},
   "outputs": [],
   "source": [
    "# In the paper, it has (20232, 228072, 608928, 665208, 345888, 92040, 10272)"
   ]
  },
  {
   "cell_type": "code",
   "execution_count": 8,
   "id": "fe6c8343",
   "metadata": {},
   "outputs": [],
   "source": [
    "filtration = []\n",
    "for d in range(D + 1):\n",
    "    filtration += my_alpha_complex[d]"
   ]
  },
  {
   "cell_type": "code",
   "execution_count": 9,
   "id": "56d9cca3",
   "metadata": {},
   "outputs": [
    {
     "name": "stderr",
     "output_type": "stream",
     "text": [
      "/var/folders/tr/3zw9td7531z0_hhwc8105rv00000gn/T/ipykernel_41194/2366749736.py:4: DeprecationWarning:\n",
      "\n",
      "Conversion of an array with ndim > 0 to a scalar is deprecated, and will error in future. Ensure you extract a single element from your array before performing this operation. (Deprecated NumPy 1.25.)\n",
      "\n"
     ]
    }
   ],
   "source": [
    "example2 = gudhi.SimplexTree()\n",
    "for d in range(D + 1):\n",
    "    for facet, val in my_alpha_complex[d]:\n",
    "        example2.insert(facet, filtration=val)\n",
    "        \n",
    "my_persistence = example2.persistence(homology_coeff_field = 2)"
   ]
  },
  {
   "cell_type": "code",
   "execution_count": 17,
   "id": "21a88ea7-5b38-4b56-a887-cbb2fdbf47e7",
   "metadata": {
    "scrolled": true
   },
   "outputs": [],
   "source": [
    "betti_numbers = {}\n",
    "for i in range(D):\n",
    "    betti_numbers[i] = 0\n",
    "for bar, bd in my_persistence:\n",
    "    if bd[1] > 10000: \n",
    "        betti_numbers[bar] += 1"
   ]
  },
  {
   "cell_type": "code",
   "execution_count": 18,
   "id": "fce560b1-95a4-4c74-93f3-936f4c3b92cd",
   "metadata": {},
   "outputs": [
    {
     "data": {
      "text/plain": [
       "{0: 1, 1: 9, 2: 14, 3: 6, 4: 0, 5: 0}"
      ]
     },
     "execution_count": 18,
     "metadata": {},
     "output_type": "execute_result"
    }
   ],
   "source": [
    "betti_numbers"
   ]
  },
  {
   "cell_type": "code",
   "execution_count": 11,
   "id": "effc8800",
   "metadata": {},
   "outputs": [
    {
     "name": "stderr",
     "output_type": "stream",
     "text": [
      "/opt/anaconda3/envs/densitda/lib/python3.10/site-packages/gudhi/persistence_graphical_tools.py:105: UserWarning:\n",
      "\n",
      "This function is not available.\n",
      "ModuleNotFoundError: No module named 'matplotlib'.\n",
      "\n",
      "/opt/anaconda3/envs/densitda/lib/python3.10/site-packages/gudhi/persistence_graphical_tools.py:85: UserWarning:\n",
      "\n",
      "There are 376240 intervals given as input, whereas max_intervals is set to 20000.\n",
      "\n"
     ]
    },
    {
     "data": {
      "image/png": "[encoded data removed]",
      "text/plain": [
       "<Figure size 640x480 with 1 Axes>"
      ]
     },
     "metadata": {},
     "output_type": "display_data"
    }
   ],
   "source": [
    "gudhi.plot_persistence_barcode(my_persistence, legend=True)\n",
    "plot.show()\n",
    "\n",
    "# gudhi.plot_persistence_diagram(my_persistence, legend=True)\n",
    "# plot.show()\n",
    "\n",
    "# gudhi.plot_persistence_density(my_persistence, legend=True)\n",
    "# plot.show()"
   ]
  },
  {
   "cell_type": "code",
   "execution_count": 12,
   "id": "3f299a2d-05ca-45d3-97a5-7120908b35b4",
   "metadata": {},
   "outputs": [
    {
     "data": {
      "image/png": "[encoded data removed]",
      "text/plain": [
       "<Figure size 640x480 with 1 Axes>"
      ]
     },
     "metadata": {},
     "output_type": "display_data"
    }
   ],
   "source": [
    "gudhi.plot_persistence_diagram(my_persistence, legend=True)\n",
    "plot.show()"
   ]
  },
  {
   "cell_type": "code",
   "execution_count": null,
   "id": "0cc2fc29-1780-4980-b38a-c8f168f700a1",
   "metadata": {},
   "outputs": [],
   "source": []
  }
 ],
 "metadata": {
  "kernelspec": {
   "display_name": "Python 3 (ipykernel)",
   "language": "python",
   "name": "python3"
  },
  "language_info": {
   "codemirror_mode": {
    "name": "ipython",
    "version": 3
   },
   "file_extension": ".py",
   "mimetype": "text/x-python",
   "name": "python",
   "nbconvert_exporter": "python",
   "pygments_lexer": "ipython3",
   "version": "3.10.14"
  }
 },
 "nbformat": 4,
 "nbformat_minor": 5
}

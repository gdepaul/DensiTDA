{
 "cells": [
  {
   "cell_type": "code",
   "execution_count": 5,
   "id": "5b91f73b",
   "metadata": {},
   "outputs": [],
   "source": [
    "## Test quadprog\n",
    "#import daqp\n",
    "import numpy as np\n",
    "from math import comb\n",
    "from ctypes import * \n",
    "import ctypes.util\n",
    "import plotly.graph_objs as go\n",
    "from collections import defaultdict\n",
    "from plotly.offline import iplot\n",
    "import itertools\n",
    "from qpsolvers import solve_qp\n",
    "from tqdm import tqdm\n",
    "import qpsolvers\n",
    "import gudhi\n",
    "import matplotlib.pyplot as plot\n",
    "from numpy import genfromtxt\n",
    "import math\n",
    "\n",
    "from DensiTDA import alphatools "
   ]
  },
  {
   "cell_type": "code",
   "execution_count": 6,
   "id": "b509893d",
   "metadata": {},
   "outputs": [],
   "source": [
    "V = np.array(genfromtxt('confland2.csv', delimiter=','))\n",
    "n = len(V)"
   ]
  },
  {
   "cell_type": "code",
   "execution_count": 7,
   "id": "311c5041-784d-45f4-bde8-da68a5d48ccf",
   "metadata": {},
   "outputs": [
    {
     "data": {
      "text/plain": [
       "20232"
      ]
     },
     "execution_count": 7,
     "metadata": {},
     "output_type": "execute_result"
    }
   ],
   "source": [
    "len(V)"
   ]
  },
  {
   "cell_type": "code",
   "execution_count": 8,
   "id": "476f9b3c",
   "metadata": {},
   "outputs": [],
   "source": [
    "P = np.zeros((n,1))\n",
    "S = V #100*V\n",
    "alpha = math.sqrt(0.35)\n",
    "D = 6"
   ]
  },
  {
   "cell_type": "code",
   "execution_count": null,
   "id": "bf4b4fd6",
   "metadata": {},
   "outputs": [
    {
     "name": "stdout",
     "output_type": "stream",
     "text": [
      "Generating 1-Dimensional Weighted Cech Complex\n"
     ]
    },
    {
     "name": "stderr",
     "output_type": "stream",
     "text": [
      " 10%|███▉                                  | 2105/20232 [01:12<10:01, 30.16it/s]"
     ]
    }
   ],
   "source": [
    "my_alpha_complex = alphatools.compute_alpha_complex(S, P, alpha, D)"
   ]
  },
  {
   "cell_type": "code",
   "execution_count": null,
   "id": "fe6c8343",
   "metadata": {},
   "outputs": [],
   "source": [
    "filtration = []\n",
    "for d in range(D + 1):\n",
    "    filtration += my_alpha_complex[d]"
   ]
  },
  {
   "cell_type": "code",
   "execution_count": null,
   "id": "56d9cca3",
   "metadata": {},
   "outputs": [],
   "source": [
    "example2 = gudhi.SimplexTree()\n",
    "for d in range(D + 1):\n",
    "    for facet, val in my_alpha_complex[d]:\n",
    "        example2.insert(facet, filtration=val)\n",
    "        \n",
    "my_persistence = example2.persistence(homology_coeff_field = 2)"
   ]
  },
  {
   "cell_type": "code",
   "execution_count": null,
   "id": "effc8800",
   "metadata": {},
   "outputs": [],
   "source": [
    "# gudhi.plot_persistence_barcode(my_persistence, legend=True)\n",
    "# plot.show()\n",
    "\n",
    "gudhi.plot_persistence_diagram(my_persistence, legend=True)\n",
    "plot.show()\n",
    "\n",
    "# gudhi.plot_persistence_density(my_persistence, legend=True)\n",
    "# plot.show()"
   ]
  },
  {
   "cell_type": "code",
   "execution_count": null,
   "id": "3f299a2d-05ca-45d3-97a5-7120908b35b4",
   "metadata": {},
   "outputs": [],
   "source": []
  }
 ],
 "metadata": {
  "kernelspec": {
   "display_name": "Python 3 (ipykernel)",
   "language": "python",
   "name": "python3"
  },
  "language_info": {
   "codemirror_mode": {
    "name": "ipython",
    "version": 3
   },
   "file_extension": ".py",
   "mimetype": "text/x-python",
   "name": "python",
   "nbconvert_exporter": "python",
   "pygments_lexer": "ipython3",
   "version": "3.10.14"
  }
 },
 "nbformat": 4,
 "nbformat_minor": 5
}

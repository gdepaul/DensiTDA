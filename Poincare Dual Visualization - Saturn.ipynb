{
 "cells": [
  {
   "cell_type": "code",
   "execution_count": null,
   "id": "9f314921-15a9-47d9-84e7-164777091297",
   "metadata": {},
   "outputs": [],
   "source": [
    "from DensiTDA import graphtools\n",
    "from DensiTDA import landmarktools\n",
    "from DensiTDA import alphatools\n",
    "from tqdm import tqdm\n",
    "\n",
    "import numpy as np"
   ]
  },
  {
   "cell_type": "markdown",
   "id": "491595af-2fe9-482d-bad7-1c6a8693a4da",
   "metadata": {},
   "source": [
    "# Generate Synthetic Data"
   ]
  },
  {
   "cell_type": "code",
   "execution_count": null,
   "id": "4461ab5b-d97b-477a-8be6-d9629049c61b",
   "metadata": {},
   "outputs": [],
   "source": [
    "X = np.arange(-10,10,2)\n",
    "Y = np.arange(-10,10,2)\n",
    "Z = np.arange(-10,10,2)\n",
    "\n",
    "X_, Y_, Z_ = np.meshgrid(X, Y, Z)"
   ]
  },
  {
   "cell_type": "code",
   "execution_count": null,
   "id": "f1fbabdb-6eb0-4fc8-81d3-6cd2d6417d5c",
   "metadata": {},
   "outputs": [],
   "source": [
    "A = np.random.rand(4)\n",
    "\n",
    "def surface_function(x,y,z):\n",
    "    \n",
    "    return A[0] * x + A[1] * y + A[2] * z + A[3]\n",
    "\n",
    "vfunc = np.vectorize(surface_function)\n",
    "\n",
    "W_ = vfunc(X_, Y_, Z_)"
   ]
  },
  {
   "cell_type": "code",
   "execution_count": null,
   "id": "194618d5-466a-4743-9304-62a169d88d06",
   "metadata": {},
   "outputs": [],
   "source": [
    "cov = np.array([[1,0,0,0],[0,1,0,0],[0,0,1,0],[0,0,0,1]])\n",
    "Ball = np.random.multivariate_normal([0,0,0,0], 1 * cov, 5000)"
   ]
  },
  {
   "cell_type": "code",
   "execution_count": null,
   "id": "5a728128-843f-418f-b75e-ac8ba397b1cc",
   "metadata": {},
   "outputs": [],
   "source": [
    "X_ = X_.flatten()\n",
    "Y_ = Y_.flatten()\n",
    "Z_ = Z_.flatten()\n",
    "W_ = W_.flatten()\n",
    "\n",
    "Plane = np.stack((X_, Y_, Z_, W_), axis=1)"
   ]
  },
  {
   "cell_type": "code",
   "execution_count": null,
   "id": "607c6118-846b-40d7-93c1-f8d842ea0014",
   "metadata": {},
   "outputs": [],
   "source": [
    "X = np.concatenate( (Ball, Plane), axis = 0)"
   ]
  },
  {
   "cell_type": "code",
   "execution_count": null,
   "id": "ae2c8c5a-5426-4099-8eac-a8cc82283bf4",
   "metadata": {},
   "outputs": [],
   "source": [
    "X.shape"
   ]
  },
  {
   "cell_type": "code",
   "execution_count": null,
   "id": "1ab9237a-903f-42c0-9c1b-91544fcdba64",
   "metadata": {},
   "outputs": [],
   "source": [
    "n = X.shape[0]"
   ]
  },
  {
   "cell_type": "markdown",
   "id": "0081f195-5900-4fc5-9eb0-ab0f64184c5a",
   "metadata": {},
   "source": [
    "# Run Max of Gaussians Landmarking Selection Algorithm"
   ]
  },
  {
   "cell_type": "code",
   "execution_count": null,
   "id": "7f7312cf-d152-4e91-a55d-7941853c3b45",
   "metadata": {},
   "outputs": [],
   "source": [
    "# hyperparameters\n",
    "d = X.shape[1]\n",
    "h = np.std(X) * (len(X)) ** (-1 / (d + 4))\n",
    "A = np.ones(len(X))\n",
    "s = 0.6\n",
    "candidate_landmarks = X"
   ]
  },
  {
   "cell_type": "code",
   "execution_count": null,
   "id": "3a97f7e7-d6fe-4bd9-9eab-b4dc368cf466",
   "metadata": {},
   "outputs": [],
   "source": [
    "chosen_landmarks = landmarktools.max_of_gaussians_landmarking(X, A, candidate_landmarks, h, s)"
   ]
  },
  {
   "cell_type": "code",
   "execution_count": null,
   "id": "52ea59be-faa9-4949-a4cc-948a8ab759a7",
   "metadata": {},
   "outputs": [],
   "source": [
    "len(chosen_landmarks) / n"
   ]
  },
  {
   "cell_type": "markdown",
   "id": "b76db950-279d-4d08-b087-ee8591115099",
   "metadata": {},
   "source": [
    "# Construct Alpha Complex"
   ]
  },
  {
   "cell_type": "code",
   "execution_count": null,
   "id": "96b89a29-b3f3-4999-9d05-cc96d8052ccd",
   "metadata": {},
   "outputs": [],
   "source": [
    "P = np.zeros((len(chosen_landmarks),1))\n",
    "S = chosen_landmarks\n",
    "alpha = 5\n",
    "D = 4"
   ]
  },
  {
   "cell_type": "code",
   "execution_count": null,
   "id": "8b91313c-33ad-44db-8fb3-7a1a5ae09800",
   "metadata": {},
   "outputs": [],
   "source": [
    "my_alpha_complex = alphatools.compute_alpha_complex(S, P, alpha, D)"
   ]
  },
  {
   "cell_type": "markdown",
   "id": "c9865116-9702-46e3-bd0d-791d9407f48e",
   "metadata": {},
   "source": [
    "# Before Codimension Splitting"
   ]
  },
  {
   "cell_type": "code",
   "execution_count": null,
   "id": "ae99b511-b406-40c3-b61b-33d2e114bb50",
   "metadata": {},
   "outputs": [],
   "source": [
    "# Get maximal graph algorithm\n",
    "maximal_graph = graphtools.maximal_graph_from_alpha_complex(my_alpha_complex, D, a1 = 3)"
   ]
  },
  {
   "cell_type": "code",
   "execution_count": null,
   "id": "7168c1c8-a3c4-4794-ba99-a514ccc439f9",
   "metadata": {},
   "outputs": [],
   "source": [
    "graphtools.draw_clique_graph(maximal_graph)"
   ]
  },
  {
   "cell_type": "markdown",
   "id": "9a19e758-c6ca-4a72-a329-ffcd0751edac",
   "metadata": {},
   "source": [
    "# After Codimension Splitting"
   ]
  },
  {
   "cell_type": "code",
   "execution_count": null,
   "id": "a8f4e3fb-259e-4bcb-851d-e9a9f0345f49",
   "metadata": {},
   "outputs": [],
   "source": [
    "reduced_graph = graphtools.split_codimension_of_maximal_graph(maximal_graph,D)"
   ]
  },
  {
   "cell_type": "code",
   "execution_count": null,
   "id": "f1d60b25-bd7c-4cdf-9e06-23e0fbaf10f3",
   "metadata": {},
   "outputs": [],
   "source": [
    "graphtools.draw_clique_graph(reduced_graph)"
   ]
  },
  {
   "cell_type": "code",
   "execution_count": null,
   "id": "68908a7b-bc81-488b-b66f-3fc6c3b7e25e",
   "metadata": {},
   "outputs": [],
   "source": []
  }
 ],
 "metadata": {
  "kernelspec": {
   "display_name": "Python 3 (ipykernel)",
   "language": "python",
   "name": "python3"
  },
  "language_info": {
   "codemirror_mode": {
    "name": "ipython",
    "version": 3
   },
   "file_extension": ".py",
   "mimetype": "text/x-python",
   "name": "python",
   "nbconvert_exporter": "python",
   "pygments_lexer": "ipython3",
   "version": "3.10.14"
  }
 },
 "nbformat": 4,
 "nbformat_minor": 5
}

{
 "cells": [
  {
   "cell_type": "code",
   "execution_count": 1,
   "id": "67650833-0631-4e4d-a214-ed0087d9dbfd",
   "metadata": {},
   "outputs": [],
   "source": [
    "import numpy as np \n",
    "import gudhi\n",
    "from sklearn import preprocessing\n",
    "from sklearn.decomposition import PCA\n",
    "from scipy.spatial.distance import cdist, pdist, squareform\n",
    "from DensiTDA import landmarktools\n",
    "from DensiTDA import alphatools \n",
    "from DensiTDA import graphtools \n",
    "from scipy.sparse.csgraph import minimum_spanning_tree\n",
    "import numpy as np\n",
    "from matplotlib import pylab as plt\n",
    "from keras.datasets import mnist\n",
    "from tqdm import tqdm\n",
    "from collections import defaultdict\n",
    "import plotly.graph_objs as go\n",
    "from plotly.offline import iplot\n",
    "import plotly.express as px\n",
    "from sklearn.metrics import mutual_info_score\n",
    "from itertools import combinations\n",
    "\n",
    "def merge(list1, list2):\n",
    "\n",
    "    merged_list = [(list1[i], list2[i]) for i in range(0, len(list1))]\n",
    "    \n",
    "    return merged_list\n",
    "\n",
    "def MI(x, y, bins):\n",
    "    c_xy = np.histogram2d(x, y, bins)[0]\n",
    "    mi = mutual_info_score(None, None, contingency=c_xy)\n",
    "    return mi"
   ]
  },
  {
   "cell_type": "markdown",
   "id": "075d2c39-b656-45fa-85ea-8e26e438c86b",
   "metadata": {},
   "source": [
    "# Download MNIST Data"
   ]
  },
  {
   "cell_type": "code",
   "execution_count": 2,
   "id": "6d08c581-3e89-4ae0-acb2-40bd23e89791",
   "metadata": {},
   "outputs": [],
   "source": [
    "(train_X, train_y), (test_X, test_y) = mnist.load_data()"
   ]
  },
  {
   "cell_type": "code",
   "execution_count": 3,
   "id": "8a1f0316-5637-49ce-a5bc-0f8be37725fc",
   "metadata": {},
   "outputs": [],
   "source": [
    "X = np.concatenate((train_X, test_X), axis=0)"
   ]
  },
  {
   "cell_type": "code",
   "execution_count": 4,
   "id": "fb812206-f00b-43e5-b1c9-808fde809128",
   "metadata": {},
   "outputs": [],
   "source": [
    "label = np.concatenate((train_y, test_y), axis=0)"
   ]
  },
  {
   "cell_type": "code",
   "execution_count": 5,
   "id": "b9892013-d331-4bd8-8445-8e6ef5b073e2",
   "metadata": {},
   "outputs": [],
   "source": [
    "max_val = np.max(X)"
   ]
  },
  {
   "cell_type": "code",
   "execution_count": 6,
   "id": "97ede912-2d4a-4de2-8188-a1a0ad9c1d44",
   "metadata": {},
   "outputs": [
    {
     "data": {
      "text/plain": [
       "<matplotlib.image.AxesImage at 0x2be66bf10>"
      ]
     },
     "execution_count": 6,
     "metadata": {},
     "output_type": "execute_result"
    },
    {
     "data": {
      "image/png": "[encoded data removed]",
      "text/plain": [
       "<Figure size 640x480 with 1 Axes>"
      ]
     },
     "metadata": {},
     "output_type": "display_data"
    }
   ],
   "source": [
    "plt.imshow(X[60001])"
   ]
  },
  {
   "cell_type": "markdown",
   "id": "bdf75ea1-fac2-41df-8c0b-3498426441b9",
   "metadata": {},
   "source": [
    "# Organize Patches accross D-norm"
   ]
  },
  {
   "cell_type": "code",
   "execution_count": 7,
   "id": "23a629fe-bbef-4f59-8498-c01b3def2fbd",
   "metadata": {},
   "outputs": [],
   "source": [
    "total_images, len_x, len_y = X.shape"
   ]
  },
  {
   "cell_type": "code",
   "execution_count": 8,
   "id": "a322a4b6-3918-4040-aeb0-03d7fda09426",
   "metadata": {},
   "outputs": [
    {
     "name": "stderr",
     "output_type": "stream",
     "text": [
      "100%|███████████████████████████████████| 70000/70000 [00:59<00:00, 1171.68it/s]\n"
     ]
    }
   ],
   "source": [
    "# extract unnormlized patches\n",
    "patches_unnormalized = []\n",
    "patch_radius = 2\n",
    "patch_size = 2 * patch_radius + 1\n",
    "\n",
    "with tqdm( total = total_images ) as pbar:\n",
    "    for i in range(total_images): \n",
    "        for center_x in range(patch_radius, len_x - patch_radius):\n",
    "            for center_y in range(patch_radius, len_y - patch_radius):\n",
    "                patches_unnormalized.append(X[i,center_x - patch_radius:center_x + patch_radius + 1, center_y - patch_radius:center_y + patch_radius + 1] / max_val)\n",
    "        pbar.update(n = 1)"
   ]
  },
  {
   "cell_type": "code",
   "execution_count": 9,
   "id": "4e2daf7c-cbe1-438b-a4bc-1510289e8e30",
   "metadata": {},
   "outputs": [],
   "source": [
    "graph = defaultdict(list)\n",
    "\n",
    "for i in range(patch_size):\n",
    "    for j in range(patch_size): \n",
    "        if i != j or i == j: \n",
    "            if i == 0 and j == 0:\n",
    "                graph[i * patch_size + j].append((i + 1) * patch_size + j)\n",
    "                graph[i * patch_size + j].append(i * patch_size + j + 1)\n",
    "            elif i == patch_size - 1 and j == 0:\n",
    "                graph[i * patch_size + j].append((i - 1) * patch_size + j)\n",
    "                graph[i * patch_size + j].append(i * patch_size + j + 1)\n",
    "            elif i == 0 and j == patch_size - 1:\n",
    "                graph[i * patch_size + j].append((i + 1) * patch_size + j)\n",
    "                graph[i * patch_size + j].append(i * patch_size + (j - 1))\n",
    "            elif i == patch_size - 1 and j ==  patch_size - 1:\n",
    "                graph[i * patch_size + j].append((i - 1) * patch_size + j)\n",
    "                graph[i * patch_size + j].append(i * patch_size + (j - 1))\n",
    "            elif i == 0:\n",
    "                graph[i * patch_size + j].append(i * patch_size + j - 1)\n",
    "                graph[i * patch_size + j].append((i + 1) * patch_size + j)\n",
    "                graph[i * patch_size + j].append(i * patch_size + j + 1)\n",
    "            elif j == 0:\n",
    "                graph[i * patch_size + j].append((i + 1) * patch_size + j)\n",
    "                graph[i * patch_size + j].append(i * patch_size + j + 1)\n",
    "                graph[i * patch_size + j].append((i - 1) * patch_size + j)\n",
    "            elif i == patch_size - 1:\n",
    "                graph[i * patch_size + j].append(i * patch_size + j - 1)\n",
    "                graph[i * patch_size + j].append((i - 1) * patch_size + j)\n",
    "                graph[i * patch_size + j].append(i * patch_size + j + 1)\n",
    "            elif j == patch_size - 1: \n",
    "                graph[i * patch_size + j].append((i + 1) * patch_size + j)\n",
    "                graph[i * patch_size + j].append(i * patch_size + j - 1)\n",
    "                graph[i * patch_size + j].append((i - 1) * patch_size + j)\n",
    "            else: \n",
    "                graph[i * patch_size + j].append(i * patch_size + j + 1)\n",
    "                graph[i * patch_size + j].append((i + 1) * patch_size + j)\n",
    "                graph[i * patch_size + j].append(i * patch_size + j - 1)\n",
    "                graph[i * patch_size + j].append((i - 1) * patch_size + j)\n",
    "    "
   ]
  },
  {
   "cell_type": "code",
   "execution_count": 10,
   "id": "b055f9e1-4bbb-403c-9251-b8991ffd0f7f",
   "metadata": {},
   "outputs": [],
   "source": [
    "D = np.zeros((patch_size ** 2, patch_size ** 2))\n",
    "\n",
    "for i, edge_list in graph.items(): \n",
    "    D[i,i] = len(edge_list)\n",
    "    for j in edge_list: \n",
    "        D[i,j] = -1"
   ]
  },
  {
   "cell_type": "code",
   "execution_count": 11,
   "id": "a72f1e40-1d40-4ac1-a411-cc4a25b1d83e",
   "metadata": {},
   "outputs": [
    {
     "data": {
      "text/plain": [
       "array([[ 2., -1.,  0.,  0.,  0., -1.,  0.,  0.,  0.,  0.,  0.,  0.,  0.,\n",
       "         0.,  0.,  0.,  0.,  0.,  0.,  0.,  0.,  0.,  0.,  0.,  0.],\n",
       "       [-1.,  3., -1.,  0.,  0.,  0., -1.,  0.,  0.,  0.,  0.,  0.,  0.,\n",
       "         0.,  0.,  0.,  0.,  0.,  0.,  0.,  0.,  0.,  0.,  0.,  0.],\n",
       "       [ 0., -1.,  3., -1.,  0.,  0.,  0., -1.,  0.,  0.,  0.,  0.,  0.,\n",
       "         0.,  0.,  0.,  0.,  0.,  0.,  0.,  0.,  0.,  0.,  0.,  0.],\n",
       "       [ 0.,  0., -1.,  3., -1.,  0.,  0.,  0., -1.,  0.,  0.,  0.,  0.,\n",
       "         0.,  0.,  0.,  0.,  0.,  0.,  0.,  0.,  0.,  0.,  0.,  0.],\n",
       "       [ 0.,  0.,  0., -1.,  2.,  0.,  0.,  0.,  0., -1.,  0.,  0.,  0.,\n",
       "         0.,  0.,  0.,  0.,  0.,  0.,  0.,  0.,  0.,  0.,  0.,  0.],\n",
       "       [-1.,  0.,  0.,  0.,  0.,  3., -1.,  0.,  0.,  0., -1.,  0.,  0.,\n",
       "         0.,  0.,  0.,  0.,  0.,  0.,  0.,  0.,  0.,  0.,  0.,  0.],\n",
       "       [ 0., -1.,  0.,  0.,  0., -1.,  4., -1.,  0.,  0.,  0., -1.,  0.,\n",
       "         0.,  0.,  0.,  0.,  0.,  0.,  0.,  0.,  0.,  0.,  0.,  0.],\n",
       "       [ 0.,  0., -1.,  0.,  0.,  0., -1.,  4., -1.,  0.,  0.,  0., -1.,\n",
       "         0.,  0.,  0.,  0.,  0.,  0.,  0.,  0.,  0.,  0.,  0.,  0.],\n",
       "       [ 0.,  0.,  0., -1.,  0.,  0.,  0., -1.,  4., -1.,  0.,  0.,  0.,\n",
       "        -1.,  0.,  0.,  0.,  0.,  0.,  0.,  0.,  0.,  0.,  0.,  0.],\n",
       "       [ 0.,  0.,  0.,  0., -1.,  0.,  0.,  0., -1.,  3.,  0.,  0.,  0.,\n",
       "         0., -1.,  0.,  0.,  0.,  0.,  0.,  0.,  0.,  0.,  0.,  0.],\n",
       "       [ 0.,  0.,  0.,  0.,  0., -1.,  0.,  0.,  0.,  0.,  3., -1.,  0.,\n",
       "         0.,  0., -1.,  0.,  0.,  0.,  0.,  0.,  0.,  0.,  0.,  0.],\n",
       "       [ 0.,  0.,  0.,  0.,  0.,  0., -1.,  0.,  0.,  0., -1.,  4., -1.,\n",
       "         0.,  0.,  0., -1.,  0.,  0.,  0.,  0.,  0.,  0.,  0.,  0.],\n",
       "       [ 0.,  0.,  0.,  0.,  0.,  0.,  0., -1.,  0.,  0.,  0., -1.,  4.,\n",
       "        -1.,  0.,  0.,  0., -1.,  0.,  0.,  0.,  0.,  0.,  0.,  0.],\n",
       "       [ 0.,  0.,  0.,  0.,  0.,  0.,  0.,  0., -1.,  0.,  0.,  0., -1.,\n",
       "         4., -1.,  0.,  0.,  0., -1.,  0.,  0.,  0.,  0.,  0.,  0.],\n",
       "       [ 0.,  0.,  0.,  0.,  0.,  0.,  0.,  0.,  0., -1.,  0.,  0.,  0.,\n",
       "        -1.,  3.,  0.,  0.,  0.,  0., -1.,  0.,  0.,  0.,  0.,  0.],\n",
       "       [ 0.,  0.,  0.,  0.,  0.,  0.,  0.,  0.,  0.,  0., -1.,  0.,  0.,\n",
       "         0.,  0.,  3., -1.,  0.,  0.,  0., -1.,  0.,  0.,  0.,  0.],\n",
       "       [ 0.,  0.,  0.,  0.,  0.,  0.,  0.,  0.,  0.,  0.,  0., -1.,  0.,\n",
       "         0.,  0., -1.,  4., -1.,  0.,  0.,  0., -1.,  0.,  0.,  0.],\n",
       "       [ 0.,  0.,  0.,  0.,  0.,  0.,  0.,  0.,  0.,  0.,  0.,  0., -1.,\n",
       "         0.,  0.,  0., -1.,  4., -1.,  0.,  0.,  0., -1.,  0.,  0.],\n",
       "       [ 0.,  0.,  0.,  0.,  0.,  0.,  0.,  0.,  0.,  0.,  0.,  0.,  0.,\n",
       "        -1.,  0.,  0.,  0., -1.,  4., -1.,  0.,  0.,  0., -1.,  0.],\n",
       "       [ 0.,  0.,  0.,  0.,  0.,  0.,  0.,  0.,  0.,  0.,  0.,  0.,  0.,\n",
       "         0., -1.,  0.,  0.,  0., -1.,  3.,  0.,  0.,  0.,  0., -1.],\n",
       "       [ 0.,  0.,  0.,  0.,  0.,  0.,  0.,  0.,  0.,  0.,  0.,  0.,  0.,\n",
       "         0.,  0., -1.,  0.,  0.,  0.,  0.,  2., -1.,  0.,  0.,  0.],\n",
       "       [ 0.,  0.,  0.,  0.,  0.,  0.,  0.,  0.,  0.,  0.,  0.,  0.,  0.,\n",
       "         0.,  0.,  0., -1.,  0.,  0.,  0., -1.,  3., -1.,  0.,  0.],\n",
       "       [ 0.,  0.,  0.,  0.,  0.,  0.,  0.,  0.,  0.,  0.,  0.,  0.,  0.,\n",
       "         0.,  0.,  0.,  0., -1.,  0.,  0.,  0., -1.,  3., -1.,  0.],\n",
       "       [ 0.,  0.,  0.,  0.,  0.,  0.,  0.,  0.,  0.,  0.,  0.,  0.,  0.,\n",
       "         0.,  0.,  0.,  0.,  0., -1.,  0.,  0.,  0., -1.,  3., -1.],\n",
       "       [ 0.,  0.,  0.,  0.,  0.,  0.,  0.,  0.,  0.,  0.,  0.,  0.,  0.,\n",
       "         0.,  0.,  0.,  0.,  0.,  0., -1.,  0.,  0.,  0., -1.,  2.]])"
      ]
     },
     "execution_count": 11,
     "metadata": {},
     "output_type": "execute_result"
    }
   ],
   "source": [
    "D"
   ]
  },
  {
   "cell_type": "markdown",
   "id": "f7e30936-fb1a-4674-95e2-7e5d72d7a720",
   "metadata": {},
   "source": [
    "Each patch is normalized in the following way: \n",
    "\n",
    "$$y = \\frac{x - \\frac{1}{9}\\sum_{i = 1}^9 x_i}{\\| x - \\frac{1}{9}\\sum_{i = 1}^9 x_i \\|_D}$$\n",
    "\n",
    "where\n",
    "\n",
    "$$\\| x \\|_D = \\sqrt{x^T D x}$$\n",
    "\n",
    "which results in the set of patches $\\subset \\tilde{\\mathbb S}^7$ where\n",
    "\n",
    "$$\\tilde{\\mathbb S}^7 = \\left \\{ y \\in \\mathbb R^9 : \\sum_{i = 1}^9 y_i = 0, y^T D y = 1 \\right \\}$$"
   ]
  },
  {
   "cell_type": "code",
   "execution_count": 12,
   "id": "87e46a28-8ed6-48c7-b74f-9a0226ad1909",
   "metadata": {},
   "outputs": [
    {
     "name": "stderr",
     "output_type": "stream",
     "text": [
      "100%|███████████████████████████| 40320000/40320000 [06:17<00:00, 106796.54it/s]\n"
     ]
    }
   ],
   "source": [
    "# normalize patches\n",
    "patches = []\n",
    "contrast = []\n",
    "\n",
    "with tqdm( total = len(patches_unnormalized) ) as pbar:\n",
    "    for patch in patches_unnormalized: \n",
    "        remove_mean = patch - np.mean(patch)\n",
    "        remove_mean = remove_mean.flatten()\n",
    "        normed_val = np.sqrt(remove_mean.T @ D @ remove_mean)\n",
    "    \n",
    "        if np.linalg.norm(normed_val) > 0: # add a cutoff with a certain amount of intensity \n",
    "            patches.append(remove_mean / normed_val)\n",
    "            contrast.append(normed_val)\n",
    "        pbar.update(n = 1)"
   ]
  },
  {
   "cell_type": "code",
   "execution_count": 13,
   "id": "e555cd1c-2f99-46d8-8abb-111bd58b64e4",
   "metadata": {},
   "outputs": [],
   "source": [
    "intense_indices = np.argsort(contrast)[::-1]"
   ]
  },
  {
   "cell_type": "code",
   "execution_count": 14,
   "id": "19f95f45-ae20-4232-ba33-33425fa584e2",
   "metadata": {},
   "outputs": [
    {
     "data": {
      "text/plain": [
       "array([ 0.16156172, -0.10334465, -0.10334465,  0.16156172, -0.10334465,\n",
       "        0.16156172, -0.03685834, -0.10334465,  0.16156172, -0.10334465,\n",
       "        0.16156172, -0.10334465, -0.10334465,  0.16156172, -0.10334465,\n",
       "        0.16156172, -0.10334465, -0.10334465,  0.16156172, -0.10334465,\n",
       "        0.02962796, -0.10334465, -0.10334465,  0.16156172, -0.10334465])"
      ]
     },
     "execution_count": 14,
     "metadata": {},
     "output_type": "execute_result"
    }
   ],
   "source": [
    "patches[intense_indices[0]]"
   ]
  },
  {
   "cell_type": "code",
   "execution_count": 15,
   "id": "420e5cce-1d0c-41b1-a40d-b48f1164f00b",
   "metadata": {},
   "outputs": [
    {
     "data": {
      "text/plain": [
       "3.7749187453540474"
      ]
     },
     "execution_count": 15,
     "metadata": {},
     "output_type": "execute_result"
    }
   ],
   "source": [
    "contrast[intense_indices[0]]"
   ]
  },
  {
   "cell_type": "code",
   "execution_count": 16,
   "id": "aa340d27-430e-4aee-a9cf-024cc0e2f179",
   "metadata": {},
   "outputs": [
    {
     "data": {
      "text/plain": [
       "<matplotlib.image.AxesImage at 0x1748d5150>"
      ]
     },
     "execution_count": 16,
     "metadata": {},
     "output_type": "execute_result"
    },
    {
     "data": {
      "image/png": "[encoded data removed]",
      "text/plain": [
       "<Figure size 640x480 with 1 Axes>"
      ]
     },
     "metadata": {},
     "output_type": "display_data"
    }
   ],
   "source": [
    "plt.imshow(patches[intense_indices[1000000]].reshape((patch_size,patch_size)))"
   ]
  },
  {
   "cell_type": "code",
   "execution_count": 17,
   "id": "9b3495cd-e287-4e8a-a7dc-3e77c9080784",
   "metadata": {},
   "outputs": [],
   "source": [
    "y = patches[0]"
   ]
  },
  {
   "cell_type": "code",
   "execution_count": 18,
   "id": "4a215caf-e380-498d-8447-75da3f4a16a5",
   "metadata": {},
   "outputs": [
    {
     "data": {
      "text/plain": [
       "-1.1102230246251565e-16"
      ]
     },
     "execution_count": 18,
     "metadata": {},
     "output_type": "execute_result"
    }
   ],
   "source": [
    "np.sum(y)"
   ]
  },
  {
   "cell_type": "code",
   "execution_count": 19,
   "id": "f2808a51-8eb0-424b-b8df-e0324df1ba30",
   "metadata": {},
   "outputs": [
    {
     "data": {
      "text/plain": [
       "0.9999999999999998"
      ]
     },
     "execution_count": 19,
     "metadata": {},
     "output_type": "execute_result"
    }
   ],
   "source": [
    "y.T @ D @ y"
   ]
  },
  {
   "cell_type": "code",
   "execution_count": 20,
   "id": "8a21d7f8-445e-4cef-aa69-c47481ac61ab",
   "metadata": {},
   "outputs": [],
   "source": [
    "basis = []\n",
    "basis_val = []\n",
    "\n",
    "for i in range(patch_size):\n",
    "    for j in range(patch_size):\n",
    "        vector = []\n",
    "        for x in range(patch_size):\n",
    "            for y in range(patch_size): \n",
    "                vector.append( np.cos( np.pi * i / patch_size * (x + 1/2) ) * np.cos( np.pi * j / patch_size * (y + 1/2) ) )\n",
    "        vector = np.expand_dims(np.array(vector),axis=1)\n",
    "        if np.sqrt(vector.T @ D @ vector) > 0:\n",
    "            basis_val.append(np.sqrt(vector.T @ D @ vector))\n",
    "            vector /= np.sqrt(vector.T @ D @ vector)\n",
    "            basis.append(vector)\n",
    "#A = np.array(basis).reshape(patch_size ** 2,patch_size ** 2 - 1)\n",
    "A = np.squeeze(np.array(basis)).T"
   ]
  },
  {
   "cell_type": "code",
   "execution_count": 21,
   "id": "1aa75dcb-62bf-4d2b-a1a3-4d1ad33cbc07",
   "metadata": {},
   "outputs": [
    {
     "data": {
      "image/png": "[encoded data removed]",
      "text/plain": [
       "<Figure size 2000x2000 with 25 Axes>"
      ]
     },
     "metadata": {},
     "output_type": "display_data"
    }
   ],
   "source": [
    "columns = patch_size\n",
    "rows = patch_size\n",
    "k = 0\n",
    "fig, ax_array = plt.subplots(rows, columns, squeeze=False, figsize=(20,20))\n",
    "for i,ax_row in enumerate(ax_array):\n",
    "    for j,axes in enumerate(ax_row):\n",
    "        axes.set_title('{},{}'.format(i,j))\n",
    "        axes.set_yticklabels([])\n",
    "        axes.set_xticklabels([])\n",
    "        if not (i == 0 and j == 0):\n",
    "            axes.imshow(A[:,i * patch_size + j - 1].reshape((patch_size,patch_size)))\n",
    "        else: \n",
    "            axes.imshow(np.zeros((3,3)))\n",
    "            \n",
    "plt.show()"
   ]
  },
  {
   "cell_type": "code",
   "execution_count": 22,
   "id": "e06eff5f-4583-4dbb-a799-c61261c8b293",
   "metadata": {},
   "outputs": [],
   "source": [
    "basis_sorted = np.argsort(np.array(basis_val).squeeze())"
   ]
  },
  {
   "cell_type": "code",
   "execution_count": 23,
   "id": "91cb46aa-4dd0-40e4-8195-52cbc7b2676e",
   "metadata": {},
   "outputs": [],
   "source": [
    "#basis"
   ]
  },
  {
   "cell_type": "code",
   "execution_count": 24,
   "id": "4b398efc-036b-4549-9012-683e1a0f9031",
   "metadata": {},
   "outputs": [
    {
     "data": {
      "text/plain": [
       "(25, 24)"
      ]
     },
     "execution_count": 24,
     "metadata": {},
     "output_type": "execute_result"
    }
   ],
   "source": [
    "A.shape"
   ]
  },
  {
   "cell_type": "code",
   "execution_count": 25,
   "id": "6a672e2c-2d89-4347-93ed-cfb472903210",
   "metadata": {},
   "outputs": [],
   "source": [
    "# # the non-constant DCT basis vectors \n",
    "# e_1 = np.expand_dims(np.array([1,0,-1,1,0,-1,1,0,-1],dtype='d'),axis=1)\n",
    "# e_1 /= np.sqrt(e_1.T @ D @ e_1)\n",
    "# e_2 = np.expand_dims(np.array([1,1,1,0,0,0,-1,-1,-1],dtype='d'),axis=1)\n",
    "# e_2 /= np.sqrt(e_2.T @ D @ e_2)\n",
    "# e_3 = np.expand_dims(np.array([1,-2,1,1,-2,1,1,-2,1],dtype='d'),axis=1)\n",
    "# e_3 /= np.sqrt(e_3.T @ D @ e_3)\n",
    "# e_4 = np.expand_dims(np.array([1,1,1,-2,-2,-2,1,1,1],dtype='d'),axis=1)\n",
    "# e_4 /= np.sqrt(e_4.T @ D @ e_4)\n",
    "# e_5 = np.expand_dims(np.array([1,0,-1,0,0,0,-1,0,1],dtype='d'),axis=1)\n",
    "# e_5 /= np.sqrt(e_5.T @ D @ e_5)\n",
    "# e_6 = np.expand_dims(np.array([1,0,-1,-2,0,2,1,0,-1],dtype='d'),axis=1)\n",
    "# e_6 /= np.sqrt(e_6.T @ D @ e_6)\n",
    "# e_7 = np.expand_dims(np.array([1,-2,1,0,0,0,-1,2,-1],dtype='d'),axis=1)\n",
    "# e_7 /= np.sqrt(e_7.T @ D @ e_7)\n",
    "# e_8 = np.expand_dims(np.array([1,-2,1,-2,4,-2,1,-2,1],dtype='d'),axis=1)\n",
    "# e_8 /= np.sqrt(e_8.T @ D @ e_8)"
   ]
  },
  {
   "cell_type": "code",
   "execution_count": 26,
   "id": "92ce27af-2069-4f78-8ee5-aa75b9139563",
   "metadata": {},
   "outputs": [],
   "source": [
    "#A = np.concatenate((e_1, e_2, e_3, e_4, e_5, e_6, e_7, e_8), axis = 1)"
   ]
  },
  {
   "cell_type": "code",
   "execution_count": 27,
   "id": "bdb03a2a-2355-4395-b1d7-cb33ed87593f",
   "metadata": {},
   "outputs": [],
   "source": [
    "#Lambda = np.diag(np.reciprocal(np.square([np.linalg.norm(e_1), np.linalg.norm(e_2), np.linalg.norm(e_3), np.linalg.norm(e_4), np.linalg.norm(e_5), np.linalg.norm(e_6), np.linalg.norm(e_7), np.linalg.norm(e_8)])))"
   ]
  },
  {
   "cell_type": "code",
   "execution_count": 28,
   "id": "5f4e792e-ff53-41bb-8d73-831e8900fcde",
   "metadata": {},
   "outputs": [],
   "source": [
    "basis_vector_diagonalization = []\n",
    "for col in range(len(basis)):\n",
    "    basis_vector_diagonalization.append(np.reciprocal(np.square(np.linalg.norm(A[:,col]))))\n",
    "Lambda = np.diag(basis_vector_diagonalization)"
   ]
  },
  {
   "cell_type": "code",
   "execution_count": 29,
   "id": "295297ba-d904-4707-ae5a-71b79474bf75",
   "metadata": {},
   "outputs": [
    {
     "data": {
      "text/plain": [
       "(24, 24)"
      ]
     },
     "execution_count": 29,
     "metadata": {},
     "output_type": "execute_result"
    }
   ],
   "source": [
    "Lambda.shape"
   ]
  },
  {
   "cell_type": "code",
   "execution_count": 30,
   "id": "3c6e392b-1a21-43d1-8fd6-838e09ae7ba4",
   "metadata": {},
   "outputs": [],
   "source": [
    "B = Lambda @ A.T"
   ]
  },
  {
   "cell_type": "markdown",
   "id": "75e9ad59-9b34-48e8-959d-3439d7e50f63",
   "metadata": {},
   "source": [
    "Normalize to the euclidean sphere, by letting $A = [e_1, \\ldots, e_8]$ and introduce \n",
    "\n",
    "$$\\Lambda = diag \\left (\\frac{1}{\\| e_1 \\|^2}, \\ldots, \\frac{1}{\\| e_8 \\|^2} \\right)$$\n",
    "\n",
    "Then we will have unit vectors \n",
    "\n",
    "$$v = \\Lambda A^T y \\in \\mathbb S^7$$\n",
    "\n",
    "which will populate within $\\mathbb S^7 = \\{ v \\in \\mathbb R^8 : \\sum_{i = 1}^8 v_i = 0, \\| v \\| = 1\\}$"
   ]
  },
  {
   "cell_type": "code",
   "execution_count": 31,
   "id": "2e3c869a-8efc-4b16-8d71-fa2f7727376e",
   "metadata": {},
   "outputs": [
    {
     "name": "stderr",
     "output_type": "stream",
     "text": [
      "100%|███████████████████████████| 23421560/23421560 [00:24<00:00, 962537.28it/s]\n"
     ]
    }
   ],
   "source": [
    "# normalize patches\n",
    "patches_final = []\n",
    "\n",
    "with tqdm( total = len(patches) ) as pbar:\n",
    "    for y in patches: \n",
    "        patches_final.append(B @ y)\n",
    "        pbar.update(n = 1)"
   ]
  },
  {
   "cell_type": "code",
   "execution_count": 32,
   "id": "58ddc31b-01c9-443a-b933-010601e6528c",
   "metadata": {},
   "outputs": [
    {
     "data": {
      "text/plain": [
       "0.9999999999999994"
      ]
     },
     "execution_count": 32,
     "metadata": {},
     "output_type": "execute_result"
    }
   ],
   "source": [
    "np.linalg.norm((patches_final[0]))"
   ]
  },
  {
   "cell_type": "code",
   "execution_count": 33,
   "id": "3b228471-9fb2-4ad1-b8ca-026d51c622f0",
   "metadata": {},
   "outputs": [],
   "source": [
    "Z = np.array(patches_final)"
   ]
  },
  {
   "cell_type": "code",
   "execution_count": 34,
   "id": "2cdc31a5-602f-47cb-a18f-b83d654ed0f0",
   "metadata": {},
   "outputs": [
    {
     "data": {
      "text/plain": [
       "(23421560, 24)"
      ]
     },
     "execution_count": 34,
     "metadata": {},
     "output_type": "execute_result"
    }
   ],
   "source": [
    "Z.shape"
   ]
  },
  {
   "cell_type": "code",
   "execution_count": 35,
   "id": "76bb967b-8a44-45f4-b974-b2e53f701b5e",
   "metadata": {},
   "outputs": [
    {
     "data": {
      "image/png": "[encoded data removed]",
      "text/plain": [
       "<Figure size 2000x2000 with 25 Axes>"
      ]
     },
     "metadata": {},
     "output_type": "display_data"
    }
   ],
   "source": [
    "columns = patch_size\n",
    "rows = patch_size\n",
    "k = 0\n",
    "fig, ax_array = plt.subplots(rows, columns, squeeze=False, figsize=(20,20))\n",
    "for i,ax_row in enumerate(ax_array):\n",
    "    for j,axes in enumerate(ax_row):\n",
    "        axes.set_title('{},{}'.format(i,j))\n",
    "        axes.set_yticklabels([])\n",
    "        axes.set_xticklabels([])\n",
    "        if not (i == 0 and j == 0):\n",
    "            axes.hist(Z[:,i * patch_size + j - 1], bins=20)\n",
    "        else: \n",
    "            continue\n",
    "plt.show()"
   ]
  },
  {
   "cell_type": "code",
   "execution_count": 36,
   "id": "9ef29bb0-b1a6-4b4b-8114-38cc7b1819f4",
   "metadata": {},
   "outputs": [],
   "source": [
    "# for i in range(patch_size ** 2 - 1):\n",
    "#     for j in range(patch_size ** 2 - 1): \n",
    "#         if i < j:\n",
    "#             print(i,j,MI(Z[:,i], Z[:,j], bins = 20))"
   ]
  },
  {
   "cell_type": "code",
   "execution_count": null,
   "id": "b438fe2b-c4d2-4970-b2cf-1ce6d0c2fef0",
   "metadata": {},
   "outputs": [
    {
     "name": "stderr",
     "output_type": "stream",
     "text": [
      "100%|███████████████████████████████████████████| 24/24 [00:08<00:00,  2.72it/s]\n"
     ]
    },
    {
     "name": "stdout",
     "output_type": "stream",
     "text": [
      "(1,) 2352\n"
     ]
    },
    {
     "name": "stderr",
     "output_type": "stream",
     "text": [
      "100%|█████████████████████████████████████████| 276/276 [22:14<00:00,  4.84s/it]\n"
     ]
    },
    {
     "name": "stdout",
     "output_type": "stream",
     "text": [
      "(0, 1) 21898\n"
     ]
    },
    {
     "name": "stderr",
     "output_type": "stream",
     "text": [
      "100%|███████████████████████████████████████| 2024/2024 [31:11<00:00,  1.08it/s]\n"
     ]
    },
    {
     "name": "stdout",
     "output_type": "stream",
     "text": [
      "(0, 1, 2) 139366\n"
     ]
    },
    {
     "name": "stderr",
     "output_type": "stream",
     "text": [
      "  1%|▎                                     | 70/10626 [01:39<3:48:38,  1.30s/it]"
     ]
    }
   ],
   "source": [
    "alpha = 0.95\n",
    "for k in range(1,5):\n",
    "    max_basis = 0\n",
    "    max_val = 0\n",
    "    \n",
    "    min_basis = 0\n",
    "    min_val = len(Z)\n",
    "\n",
    "    with tqdm( total = len(list(combinations(range(patch_size ** 2 - 1), k))) ) as pbar:\n",
    "\n",
    "        for reduced_basis in list(combinations(range(patch_size ** 2 - 1), k)): \n",
    "            if len(Z[np.linalg.norm(Z[:,reduced_basis],axis=1) > alpha]) > max_val:\n",
    "                max_basis = reduced_basis\n",
    "                max_val = len(Z[np.linalg.norm(Z[:,reduced_basis],axis=1) > alpha])\n",
    "            if len(Z[np.linalg.norm(Z[:,reduced_basis],axis=1) > alpha]) < min_val:\n",
    "                min_basis = reduced_basis\n",
    "                min_val = len(Z[np.linalg.norm(Z[:,reduced_basis],axis=1) > alpha])\n",
    "            # print(reduced_basis, len(Z[np.linalg.norm(Z[:,reduced_basis],axis=1) > alpha]))\n",
    "\n",
    "            pbar.update(n = 1)\n",
    "\n",
    "    print(max_basis, max_val)"
   ]
  },
  {
   "cell_type": "code",
   "execution_count": null,
   "id": "f9a5d548-e79e-4f08-ae04-fa271059ed31",
   "metadata": {},
   "outputs": [],
   "source": [
    "# for k in range(4,5):\n",
    "#     max_basis = 0\n",
    "#     max_val = 0\n",
    "    \n",
    "#     min_basis = 0\n",
    "#     min_val = len(Z)\n",
    "#     for reduced_basis in list(combinations(range(patch_size ** 2 - 1), k)): \n",
    "#         if len(Z[np.linalg.norm(Z[:,reduced_basis],axis=1) > 0.9]) > max_val:\n",
    "#             max_basis = reduced_basis\n",
    "#             max_val = len(Z[np.linalg.norm(Z[:,reduced_basis],axis=1) > 0.9])\n",
    "#         if len(Z[np.linalg.norm(Z[:,reduced_basis],axis=1) > 0.9]) < min_val:\n",
    "#             min_basis = reduced_basis\n",
    "#             min_val = len(Z[np.linalg.norm(Z[:,reduced_basis],axis=1) > 0.9])\n",
    "#         print(reduced_basis, len(Z[np.linalg.norm(Z[:,reduced_basis],axis=1) > 0.9]))\n",
    "\n",
    "#     print(max_basis, max_val)"
   ]
  },
  {
   "cell_type": "code",
   "execution_count": null,
   "id": "a4594b8f-0ca1-41db-af77-af161d8b0c3b",
   "metadata": {},
   "outputs": [],
   "source": [
    "# np.sum([np.linalg.norm(Z[:,(0,1,2,4,11,12)],axis=1) > 0.7])"
   ]
  },
  {
   "cell_type": "code",
   "execution_count": null,
   "id": "884dcaf8-3d1c-4a13-b0c0-7ed3c9d29430",
   "metadata": {},
   "outputs": [],
   "source": [
    "# max_basis = (3,32,43,54)"
   ]
  },
  {
   "cell_type": "code",
   "execution_count": null,
   "id": "754daf19-ba0b-4745-ac7a-f373091186ec",
   "metadata": {},
   "outputs": [],
   "source": [
    "max_points = [np.linalg.norm(Z[:,max_basis],axis=1) > alpha]\n",
    "fuckups = 0\n",
    "max_fucks = 100\n",
    "with tqdm( total = len(list(combinations(range(patch_size ** 2 - 1), 4))) ) as pbar:\n",
    "    \n",
    "    for reduced_basis in list(combinations(range(patch_size ** 2 - 1), 4)):\n",
    "        max_points = np.logical_or(max_points, [np.linalg.norm(Z[:,reduced_basis],axis=1) > alpha])\n",
    "    \n",
    "        if len([np.linalg.norm(Z[:,reduced_basis],axis=1) > alpha]) < max_fucks:\n",
    "            if fuckups < max_fucks:\n",
    "                fuckups += 1\n",
    "            else: \n",
    "                break\n",
    "\n",
    "        pbar.update(n = 1)\n",
    "\n",
    "#max_points = "
   ]
  },
  {
   "cell_type": "code",
   "execution_count": null,
   "id": "69be44ba-1bc0-4ab5-9909-f8cd33e97c2d",
   "metadata": {},
   "outputs": [],
   "source": [
    "np.sum(max_points[0])"
   ]
  },
  {
   "cell_type": "code",
   "execution_count": null,
   "id": "5047213a-856e-4a66-a0a3-92a2fa553803",
   "metadata": {},
   "outputs": [],
   "source": [
    "Z_reduced = Z[max_points[0]]"
   ]
  },
  {
   "cell_type": "code",
   "execution_count": null,
   "id": "4a52cc40-0657-4610-b10c-4f03eb319a14",
   "metadata": {},
   "outputs": [],
   "source": [
    "sizes = np.linalg.norm(Z_reduced[:,max_basis],axis=1)"
   ]
  },
  {
   "cell_type": "code",
   "execution_count": null,
   "id": "cca17b9c-d5dd-4d20-b165-fd883b5a84b6",
   "metadata": {},
   "outputs": [],
   "source": [
    "len(Z_reduced)"
   ]
  },
  {
   "cell_type": "code",
   "execution_count": null,
   "id": "d65e081e-b82c-4dd9-aca8-75dc60ce823f",
   "metadata": {},
   "outputs": [],
   "source": [
    "N = 50000"
   ]
  },
  {
   "cell_type": "code",
   "execution_count": null,
   "id": "8cb74e86-d38b-47c7-a602-31f422c62e67",
   "metadata": {},
   "outputs": [],
   "source": [
    "#indices_2 = np.argsort(contrast)[::-1]"
   ]
  },
  {
   "cell_type": "code",
   "execution_count": null,
   "id": "13a11e35-0dc3-4ca7-bcdd-4853fa7ae2d2",
   "metadata": {},
   "outputs": [],
   "source": [
    "#indices_2[int(3 * indices_2.shape[0] / 10):int(9 * indices_2.shape[0] / 10)]"
   ]
  },
  {
   "cell_type": "code",
   "execution_count": null,
   "id": "99b4a80b-ee6e-48d1-bed3-457376f0d364",
   "metadata": {},
   "outputs": [],
   "source": [
    "# indices = np.random.choice(len(Z), N, replace=False)  \n",
    "# Y = Z[indices, :]"
   ]
  },
  {
   "cell_type": "code",
   "execution_count": null,
   "id": "9fc913f8-3408-4580-8ad7-abdad463781b",
   "metadata": {},
   "outputs": [],
   "source": [
    "indices = np.random.choice(len(Z_reduced), N, replace=False)  \n",
    "Y = Z_reduced[indices, :]"
   ]
  },
  {
   "cell_type": "code",
   "execution_count": null,
   "id": "8988b054-2d80-4977-bd5d-3dd2beb01766",
   "metadata": {},
   "outputs": [],
   "source": [
    "Y.shape"
   ]
  },
  {
   "cell_type": "code",
   "execution_count": null,
   "id": "37b05b4a-ef3c-4fa1-8585-84557f908279",
   "metadata": {},
   "outputs": [],
   "source": [
    "y_sizes = np.abs(sizes[indices])"
   ]
  },
  {
   "cell_type": "code",
   "execution_count": null,
   "id": "601b0c30-5661-4d8a-8755-3f663812b135",
   "metadata": {},
   "outputs": [],
   "source": [
    "things_to_plot = []\n",
    "k = 0\n",
    "things_to_plot.append(\n",
    "        go.Scatter3d(x=Y[:,max_basis[0 + k]], y=Y[:,max_basis[1 + k]], z=Y[:,max_basis[2 + k]],\n",
    "            mode='markers',\n",
    "            marker=dict(\n",
    "                size=5 * y_sizes,\n",
    "                color=Y[:,max_basis[3 + k]],                # set color to an array/list of desired values\n",
    "                colorscale='viridis',   # choose a colorscale\n",
    "                opacity=1\n",
    "                ), \n",
    "            text=indices,\n",
    "            hoverinfo='text',\n",
    "            showlegend=False)\n",
    "    )\n",
    "\n",
    "layout = go.Layout(autosize=False, width=900, height=900, showlegend = False, scene=dict(\n",
    "                 aspectmode='data'\n",
    "         ))\n",
    "fig = go.Figure(data = things_to_plot, layout = layout)\n",
    "iplot(fig)"
   ]
  },
  {
   "cell_type": "markdown",
   "id": "6a9d8140-bf8b-4f9d-81d9-3cd18271b4dd",
   "metadata": {},
   "source": [
    "# Landmark on $\\mathbb S^7$"
   ]
  },
  {
   "cell_type": "code",
   "execution_count": null,
   "id": "68eb9a18-805b-49f0-86c9-f8e6f3968928",
   "metadata": {},
   "outputs": [],
   "source": [
    "# hyperparameters\n",
    "d = Y.shape[1]\n",
    "h = np.std(Y) * (len(Y)) ** (-1 / (d + 4))\n",
    "t = 1 / h ** 2\n",
    "A = np.ones(len(Y)) / (h * len(Y))\n",
    "s = 0.6"
   ]
  },
  {
   "cell_type": "code",
   "execution_count": null,
   "id": "033ba3f6-881b-45ba-8d25-8a0d900a50a5",
   "metadata": {
    "scrolled": true
   },
   "outputs": [],
   "source": [
    "# reduce_down = []\n",
    "# for k in range(100):\n",
    "#     N = 10000\n",
    "#     indices = np.random.choice(Z.shape[0], N, replace=False)\n",
    "#     Y = Z[indices[0:N], :]\n",
    "chosen_landmarks, chosen_powers = landmarktools.optimal_spherical_landmarking(Y, A, t, s, 90, batch_size = 1000)\n",
    "# reduce_down += chosen_landmarks"
   ]
  },
  {
   "cell_type": "code",
   "execution_count": null,
   "id": "a158d39e-9f72-4bd4-8fc0-7856044a981c",
   "metadata": {},
   "outputs": [],
   "source": [
    "print(\"Precentage of points selected: \", 100 * len(chosen_landmarks) / len(X))"
   ]
  },
  {
   "cell_type": "code",
   "execution_count": null,
   "id": "580b2f24-03dc-44fc-8526-f91d871b12ef",
   "metadata": {},
   "outputs": [],
   "source": [
    "Q = np.array(chosen_landmarks)"
   ]
  },
  {
   "cell_type": "code",
   "execution_count": null,
   "id": "3df7deb1-b542-4251-aeb6-c11c86e779ff",
   "metadata": {},
   "outputs": [],
   "source": [
    "things_to_plot = []\n",
    "\n",
    "things_to_plot.append(\n",
    "        go.Scatter3d(x=Q[:,max_basis[0]], y=Q[:,max_basis[1]], z=Q[:,max_basis[2]],\n",
    "            mode='markers',\n",
    "            marker=dict(\n",
    "                size=5,\n",
    "                color=Q[:,max_basis[3]],                # set color to an array/list of desired values\n",
    "                colorscale='viridis',   # choose a colorscale\n",
    "                opacity=1\n",
    "                ), \n",
    "            text=indices,\n",
    "            hoverinfo='text',\n",
    "            showlegend=False)\n",
    "    )\n",
    "\n",
    "layout = go.Layout(autosize=False, width=900, height=900, showlegend = False, scene=dict(\n",
    "                 aspectmode='data'\n",
    "         ))\n",
    "fig = go.Figure(data = things_to_plot, layout = layout)\n",
    "iplot(fig)"
   ]
  },
  {
   "cell_type": "markdown",
   "id": "12c288f8-2ed3-4c81-a156-f934cfde8a78",
   "metadata": {},
   "source": [
    "# Identify Average Distance"
   ]
  },
  {
   "cell_type": "code",
   "execution_count": null,
   "id": "f50e87ce-6acc-4563-b72e-5acd2250cac3",
   "metadata": {},
   "outputs": [],
   "source": [
    "# distance_distribution = squareform(pdist(chosen_landmarks))"
   ]
  },
  {
   "cell_type": "code",
   "execution_count": null,
   "id": "0db4064a-9c67-4cb8-a123-cff247743af0",
   "metadata": {},
   "outputs": [],
   "source": [
    "# distances = minimum_spanning_tree(distance_distribution)"
   ]
  },
  {
   "cell_type": "code",
   "execution_count": null,
   "id": "04969af2-fe72-4e73-8f9f-0ade4d46bef1",
   "metadata": {},
   "outputs": [],
   "source": [
    "# alpha = np.max(np.max(distances, axis=1))"
   ]
  },
  {
   "cell_type": "code",
   "execution_count": null,
   "id": "4be0770a-85b4-4779-aa39-1edc02467642",
   "metadata": {},
   "outputs": [],
   "source": [
    "alpha = np.sqrt(2 - 2 * s ** (1/t))"
   ]
  },
  {
   "cell_type": "code",
   "execution_count": null,
   "id": "70b32a54-1ef6-497f-b274-eb680c28e99f",
   "metadata": {},
   "outputs": [],
   "source": [
    "#alpha *= 2"
   ]
  },
  {
   "cell_type": "code",
   "execution_count": null,
   "id": "e3f2d516-2f24-4fc3-be53-d0b4c1074b7c",
   "metadata": {},
   "outputs": [],
   "source": [
    "#alpha /= 2"
   ]
  },
  {
   "cell_type": "code",
   "execution_count": null,
   "id": "ff6a1d89-d4da-46c6-a191-42288b5c13c2",
   "metadata": {},
   "outputs": [],
   "source": [
    "#alpha = 0.3"
   ]
  },
  {
   "cell_type": "markdown",
   "id": "5ecdb3e6-10f9-417a-909a-e9afb0a93482",
   "metadata": {},
   "source": [
    "# Construct Alpha Complex on Landmarked Points"
   ]
  },
  {
   "cell_type": "code",
   "execution_count": null,
   "id": "e4d3ad24-a46e-43a9-bb4d-ea3094dc5471",
   "metadata": {},
   "outputs": [],
   "source": [
    "S = np.array(chosen_landmarks)"
   ]
  },
  {
   "cell_type": "code",
   "execution_count": null,
   "id": "5f205c2a-c890-4f4b-99cb-3c4996ae88cc",
   "metadata": {},
   "outputs": [],
   "source": [
    "P = np.zeros(len(chosen_landmarks))\n",
    "D = 3"
   ]
  },
  {
   "cell_type": "code",
   "execution_count": null,
   "id": "6664e264-8ba8-4dad-a0c1-b94b4356538c",
   "metadata": {},
   "outputs": [],
   "source": [
    "my_alpha_complex = alphatools.compute_alpha_complex(S, P, alpha, D)"
   ]
  },
  {
   "cell_type": "code",
   "execution_count": null,
   "id": "e43a7a98-e717-48c7-8beb-14f03af218ae",
   "metadata": {},
   "outputs": [],
   "source": [
    "filtration = []\n",
    "for d in range(D + 1):\n",
    "    filtration += my_alpha_complex[d]"
   ]
  },
  {
   "cell_type": "code",
   "execution_count": null,
   "id": "f7d2127e-d3a2-43c3-a3ba-8090d5bffbfa",
   "metadata": {},
   "outputs": [],
   "source": [
    "example2 = gudhi.SimplexTree()\n",
    "for d in range(D + 1):\n",
    "    for facet, val in my_alpha_complex[d]:\n",
    "        example2.insert(facet, filtration=val)\n",
    "        \n",
    "my_persistence = example2.persistence(homology_coeff_field = 2)"
   ]
  },
  {
   "cell_type": "code",
   "execution_count": null,
   "id": "90273dba-35c4-4db7-93cd-1a30f1dcf0a1",
   "metadata": {},
   "outputs": [],
   "source": [
    "gudhi.plot_persistence_diagram(my_persistence, legend=True)\n",
    "plt.show()"
   ]
  },
  {
   "cell_type": "code",
   "execution_count": null,
   "id": "a9da6a84-a106-427d-b8ed-ab4fa42db978",
   "metadata": {},
   "outputs": [],
   "source": [
    "betti_numbers = {}\n",
    "for i in range(D):\n",
    "    betti_numbers[i] = 0\n",
    "for bar, bd in my_persistence:\n",
    "    if bd[1] > 10000: \n",
    "        betti_numbers[bar] += 1\n",
    "\n",
    "print(\"Betti Numbers up to Dimension 3 over the field F_2\")\n",
    "betti_numbers"
   ]
  },
  {
   "cell_type": "code",
   "execution_count": null,
   "id": "6810bd94-697e-4982-a145-a33552cea7e1",
   "metadata": {},
   "outputs": [],
   "source": [
    "my_persistence = example2.persistence(homology_coeff_field = 3)"
   ]
  },
  {
   "cell_type": "code",
   "execution_count": null,
   "id": "841bcea2-7d1f-4497-9e9e-b830a7c9196d",
   "metadata": {},
   "outputs": [],
   "source": [
    "gudhi.plot_persistence_diagram(my_persistence, legend=True)\n",
    "plt.show()"
   ]
  },
  {
   "cell_type": "code",
   "execution_count": null,
   "id": "d292c3a4-2290-465a-9f65-ef7346781038",
   "metadata": {},
   "outputs": [],
   "source": [
    "betti_numbers = {}\n",
    "for i in range(D):\n",
    "    betti_numbers[i] = 0\n",
    "for bar, bd in my_persistence:\n",
    "    if bd[1] > 10000: \n",
    "        betti_numbers[bar] += 1\n",
    "\n",
    "print(\"Betti Numbers up to Dimension 3 over the field F_3\")\n",
    "betti_numbers"
   ]
  },
  {
   "cell_type": "code",
   "execution_count": null,
   "id": "0592fd17-8966-40ab-a6e7-faabb0eaceea",
   "metadata": {},
   "outputs": [],
   "source": [
    "graphtools.draw_abstract_simplcial_complex(my_alpha_complex)"
   ]
  },
  {
   "cell_type": "code",
   "execution_count": null,
   "id": "5561791b-7982-4b12-a548-c064fc6619ac",
   "metadata": {},
   "outputs": [],
   "source": [
    "# if you adjust to the bigger patches of 10x10, then you end up with a mobius strip as a fiber within the klein bottle. "
   ]
  },
  {
   "cell_type": "code",
   "execution_count": null,
   "id": "0655be1f-a9d6-4725-aa48-5d2aed4baa2c",
   "metadata": {},
   "outputs": [],
   "source": [
    "# # D-matrix for normalization\n",
    "# D = np.array([[2,-1,0,-1,0,0,0,0,0],\n",
    "#      [-1,3,-1,0,-1,0,0,0,0],\n",
    "#      [0,-1,2,0,0,-1,0,0,0],\n",
    "#      [-1,0,0,3,-1,0,-1,0,0],\n",
    "#      [0,-1,0,-1,4,-1,0,-1,0],\n",
    "#      [0,0,-1,0,-1,3,0,0,-1],\n",
    "#      [0,0,0,-1,0,0,2,-1,0],\n",
    "#      [0,0,0,0,-1,0,-1,3,-1],\n",
    "#      [0,0,0,0,0,-1,0,-1,2]])"
   ]
  }
 ],
 "metadata": {
  "kernelspec": {
   "display_name": "Python 3 (ipykernel)",
   "language": "python",
   "name": "python3"
  },
  "language_info": {
   "codemirror_mode": {
    "name": "ipython",
    "version": 3
   },
   "file_extension": ".py",
   "mimetype": "text/x-python",
   "name": "python",
   "nbconvert_exporter": "python",
   "pygments_lexer": "ipython3",
   "version": "3.10.16"
  }
 },
 "nbformat": 4,
 "nbformat_minor": 5
}

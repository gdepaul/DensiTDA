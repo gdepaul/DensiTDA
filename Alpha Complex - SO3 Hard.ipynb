{
 "cells": [
  {
   "cell_type": "code",
   "execution_count": 1,
   "id": "5b91f73b",
   "metadata": {},
   "outputs": [],
   "source": [
    "import gudhi\n",
    "import matplotlib.pyplot as plot\n",
    "import numpy as np\n",
    "from DensiTDA import alphatools \n",
    "from numpy import genfromtxt\n",
    "from DensiTDA import alphatools "
   ]
  },
  {
   "cell_type": "code",
   "execution_count": 2,
   "id": "b509893d",
   "metadata": {},
   "outputs": [],
   "source": [
    "V = np.array(genfromtxt('datasets/so3land2.csv', delimiter=','))\n",
    "n = len(V)"
   ]
  },
  {
   "cell_type": "code",
   "execution_count": 3,
   "id": "311c5041-784d-45f4-bde8-da68a5d48ccf",
   "metadata": {},
   "outputs": [
    {
     "data": {
      "text/plain": [
       "2340"
      ]
     },
     "execution_count": 3,
     "metadata": {},
     "output_type": "execute_result"
    }
   ],
   "source": [
    "len(V)"
   ]
  },
  {
   "cell_type": "code",
   "execution_count": 4,
   "id": "476f9b3c",
   "metadata": {},
   "outputs": [],
   "source": [
    "P = np.zeros((n,1))\n",
    "S = V \n",
    "alpha = 3.5**2\n",
    "D = 4"
   ]
  },
  {
   "cell_type": "code",
   "execution_count": 5,
   "id": "bf4b4fd6",
   "metadata": {},
   "outputs": [
    {
     "name": "stdout",
     "output_type": "stream",
     "text": [
      "Generating 1-Dimensional Weighted Cech Complex\n"
     ]
    },
    {
     "name": "stderr",
     "output_type": "stream",
     "text": [
      "100%|█████████████████████████████████████████████| 3/3 [00:07<00:00,  2.44s/it]"
     ]
    },
    {
     "name": "stdout",
     "output_type": "stream",
     "text": [
      "\tTotal Edges of Cech Graph:  45548\n",
      "\tHighest Degree of Cech Graph:  139\n",
      "\tAverage Degree of Cech Graph:  38.92991452991453\n",
      "\tNumber of Connected Components:  1\n",
      "Begin Computing Alpha Complex\n",
      "Preprocessing Dual Matrices:  2340\n"
     ]
    },
    {
     "name": "stderr",
     "output_type": "stream",
     "text": [
      "\n",
      "100%|█████████████████████████████████████████████| 3/3 [00:03<00:00,  1.30s/it]\n"
     ]
    },
    {
     "name": "stdout",
     "output_type": "stream",
     "text": [
      "*********** BEGIN DIMENSION 0 ***********\n",
      "\tPossible Facets:  2340\n"
     ]
    },
    {
     "name": "stderr",
     "output_type": "stream",
     "text": [
      "100%|██████████████████████████████████████| 2340/2340 [00:04<00:00, 482.13it/s]\n"
     ]
    },
    {
     "name": "stdout",
     "output_type": "stream",
     "text": [
      "\tFinal Number of Facets:  2340\n",
      "*********** BEGIN DIMENSION 1 ***********\n",
      "\tPossible Facets:  45548\n"
     ]
    },
    {
     "name": "stderr",
     "output_type": "stream",
     "text": [
      "100%|████████████████████████████████████| 45548/45548 [02:32<00:00, 299.60it/s]\n"
     ]
    },
    {
     "name": "stdout",
     "output_type": "stream",
     "text": [
      "\tFinal Number of Facets:  24463\n",
      "*********** BEGIN DIMENSION 2 ***********\n",
      "Estimating Number of Facets for dimension  2\n",
      "\tPossible Facets:  88328\n"
     ]
    },
    {
     "name": "stderr",
     "output_type": "stream",
     "text": [
      "100%|████████████████████████████████████| 88328/88328 [05:30<00:00, 266.91it/s]\n"
     ]
    },
    {
     "name": "stdout",
     "output_type": "stream",
     "text": [
      "\tFinal Number of Facets:  68150\n",
      "*********** BEGIN DIMENSION 3 ***********\n",
      "Estimating Number of Facets for dimension  3\n",
      "\tPossible Facets:  2196555\n"
     ]
    },
    {
     "name": "stderr",
     "output_type": "stream",
     "text": [
      "100%|██████████████████████████████████████████| 22/22 [43:54<00:00, 119.76s/it]\n"
     ]
    },
    {
     "name": "stdout",
     "output_type": "stream",
     "text": [
      "\tFinal Number of Facets:  102772\n",
      "*********** BEGIN DIMENSION 4 ***********\n",
      "Estimating Number of Facets for dimension  4\n",
      "\tPossible Facets:  2040789\n"
     ]
    },
    {
     "name": "stderr",
     "output_type": "stream",
     "text": [
      "100%|██████████████████████████████████████████| 21/21 [42:46<00:00, 122.21s/it]\n"
     ]
    },
    {
     "name": "stdout",
     "output_type": "stream",
     "text": [
      "\tFinal Number of Facets:  128302\n"
     ]
    }
   ],
   "source": [
    "my_alpha_complex = alphatools.compute_alpha_complex(S, P, alpha, D)"
   ]
  },
  {
   "cell_type": "code",
   "execution_count": 6,
   "id": "d778ac07-7164-481d-b357-4bc0a9f3c7a8",
   "metadata": {},
   "outputs": [],
   "source": [
    "# In the paper, it has (2340, 24463, 68150, 102772, 128302)"
   ]
  },
  {
   "cell_type": "code",
   "execution_count": 7,
   "id": "fe6c8343",
   "metadata": {},
   "outputs": [],
   "source": [
    "filtration = []\n",
    "for d in range(D + 1):\n",
    "    filtration += my_alpha_complex[d]"
   ]
  },
  {
   "cell_type": "code",
   "execution_count": 8,
   "id": "56d9cca3",
   "metadata": {},
   "outputs": [
    {
     "name": "stderr",
     "output_type": "stream",
     "text": [
      "/var/folders/tr/3zw9td7531z0_hhwc8105rv00000gn/T/ipykernel_17774/870867512.py:4: DeprecationWarning:\n",
      "\n",
      "Conversion of an array with ndim > 0 to a scalar is deprecated, and will error in future. Ensure you extract a single element from your array before performing this operation. (Deprecated NumPy 1.25.)\n",
      "\n"
     ]
    }
   ],
   "source": [
    "example2 = gudhi.SimplexTree()\n",
    "for d in range(D + 1):\n",
    "    for facet, val in my_alpha_complex[d]:\n",
    "        example2.insert(facet, filtration=val)"
   ]
  },
  {
   "cell_type": "code",
   "execution_count": 9,
   "id": "21a88ea7-5b38-4b56-a887-cbb2fdbf47e7",
   "metadata": {
    "scrolled": true
   },
   "outputs": [
    {
     "name": "stdout",
     "output_type": "stream",
     "text": [
      "Betti Numbers up to Dimension 3 over the field F_2\n"
     ]
    },
    {
     "data": {
      "text/plain": [
       "{0: 1, 1: 0, 2: 1, 3: 1}"
      ]
     },
     "execution_count": 9,
     "metadata": {},
     "output_type": "execute_result"
    }
   ],
   "source": [
    "my_persistence = example2.persistence(homology_coeff_field = 2)\n",
    "\n",
    "betti_numbers = {}\n",
    "for i in range(D):\n",
    "    betti_numbers[i] = 0\n",
    "for bar, bd in my_persistence:\n",
    "    if bd[1] > 10000: \n",
    "        betti_numbers[bar] += 1\n",
    "\n",
    "print(\"Betti Numbers up to Dimension 3 over the field F_2\")\n",
    "betti_numbers"
   ]
  },
  {
   "cell_type": "code",
   "execution_count": 10,
   "id": "fce560b1-95a4-4c74-93f3-936f4c3b92cd",
   "metadata": {},
   "outputs": [
    {
     "name": "stdout",
     "output_type": "stream",
     "text": [
      "Betti Numbers up to Dimension 3 over the field F_3\n"
     ]
    },
    {
     "data": {
      "text/plain": [
       "{0: 1, 1: 0, 2: 1, 3: 1}"
      ]
     },
     "execution_count": 10,
     "metadata": {},
     "output_type": "execute_result"
    }
   ],
   "source": [
    "my_persistence = example2.persistence(homology_coeff_field = 3)\n",
    "\n",
    "betti_numbers = {}\n",
    "for i in range(D):\n",
    "    betti_numbers[i] = 0\n",
    "for bar, bd in my_persistence:\n",
    "    if bd[1] > 10000: \n",
    "        betti_numbers[bar] += 1\n",
    "\n",
    "print(\"Betti Numbers up to Dimension 3 over the field F_3\")\n",
    "betti_numbers"
   ]
  },
  {
   "cell_type": "code",
   "execution_count": 13,
   "id": "e3aa5ee2-d57c-4a14-9a86-212842ca640b",
   "metadata": {},
   "outputs": [
    {
     "name": "stdout",
     "output_type": "stream",
     "text": [
      "Betti Numbers up to Dimension 3 over the field F_46337\n"
     ]
    },
    {
     "data": {
      "text/plain": [
       "{0: 1, 1: 0, 2: 1, 3: 1}"
      ]
     },
     "execution_count": 13,
     "metadata": {},
     "output_type": "execute_result"
    }
   ],
   "source": [
    "my_persistence = example2.persistence(homology_coeff_field = 46337)\n",
    "\n",
    "betti_numbers = {}\n",
    "for i in range(D):\n",
    "    betti_numbers[i] = 0\n",
    "for bar, bd in my_persistence:\n",
    "    if bd[1] > 10000: \n",
    "        betti_numbers[bar] += 1\n",
    "\n",
    "print(\"Betti Numbers up to Dimension 3 over the field F_46337\")\n",
    "betti_numbers"
   ]
  },
  {
   "cell_type": "code",
   "execution_count": null,
   "id": "d709b08d-1076-488b-a291-296d67ebd3aa",
   "metadata": {},
   "outputs": [],
   "source": []
  }
 ],
 "metadata": {
  "kernelspec": {
   "display_name": "Python 3 (ipykernel)",
   "language": "python",
   "name": "python3"
  },
  "language_info": {
   "codemirror_mode": {
    "name": "ipython",
    "version": 3
   },
   "file_extension": ".py",
   "mimetype": "text/x-python",
   "name": "python",
   "nbconvert_exporter": "python",
   "pygments_lexer": "ipython3",
   "version": "3.10.16"
  }
 },
 "nbformat": 4,
 "nbformat_minor": 5
}

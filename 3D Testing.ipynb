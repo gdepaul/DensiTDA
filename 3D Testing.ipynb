{
 "cells": [
  {
   "cell_type": "code",
   "execution_count": 1,
   "id": "5b91f73b",
   "metadata": {},
   "outputs": [],
   "source": [
    "## Test quadprog\n",
    "#import daqp\n",
    "import numpy as np\n",
    "import pandas as pd\n",
    "from math import comb\n",
    "from ctypes import * \n",
    "import ctypes.util\n",
    "import plotly.graph_objs as go\n",
    "from collections import defaultdict\n",
    "from plotly.offline import iplot\n",
    "import itertools\n",
    "import gudhi\n",
    "import matplotlib.pyplot as plot\n",
    "from numpy import genfromtxt\n",
    "import math\n",
    "def create_vector(a,b,step):\n",
    "    new_vec = []\n",
    "    curr_val = a\n",
    "    while curr_val < b:\n",
    "        new_vec.append(curr_val)\n",
    "        curr_val += step\n",
    "        \n",
    "    return new_vec\n",
    "from DensiTDA import alphatools "
   ]
  },
  {
   "cell_type": "code",
   "execution_count": 2,
   "id": "476f9b3c",
   "metadata": {},
   "outputs": [],
   "source": [
    "Theta = create_vector(-3.1415/2,3.1415/2,0.2)\n",
    "Phi = create_vector(0,2*3.1415,0.2)\n",
    "\n",
    "Theta_, Phi_ = np.meshgrid(Theta, Phi)\n",
    "\n",
    "Theta_ = Theta_.flatten()\n",
    "Phi_ = Phi_.flatten()"
   ]
  },
  {
   "cell_type": "code",
   "execution_count": 3,
   "id": "8190da5c-a896-47db-996d-18d28728dcb5",
   "metadata": {},
   "outputs": [],
   "source": [
    "def parametrized_function_2(u,v):\n",
    "    \n",
    "    return math.cos(u)*math.sin(v), math.sin(u)*math.sin(v), math.cos(v)\n",
    "\n",
    "zfunc = np.vectorize(parametrized_function_2)\n",
    "\n",
    "X_, Y_, Z_ = zfunc(Theta_, Phi_)"
   ]
  },
  {
   "cell_type": "code",
   "execution_count": 4,
   "id": "b981b8a8-e4e1-4583-b209-d426a99ce750",
   "metadata": {},
   "outputs": [],
   "source": [
    "S = np.vstack((X_, Y_, Z_)).T\n",
    "\n",
    "n = len(S) \n",
    "\n",
    "P = np.zeros((n,1))\n",
    "alpha = 0.3\n",
    "D = 3"
   ]
  },
  {
   "cell_type": "code",
   "execution_count": 5,
   "id": "24f50a62-8737-4091-838e-4d10905be028",
   "metadata": {},
   "outputs": [],
   "source": [
    "DF = pd.DataFrame(S) \n",
    "DF.to_csv(\"sphere.csv\")"
   ]
  },
  {
   "cell_type": "code",
   "execution_count": 6,
   "id": "f4024bae-95c5-463a-b989-84eb0b8f5c29",
   "metadata": {},
   "outputs": [],
   "source": [
    "# P = [4,4,4,4,1]\n",
    "# S = np.array([[1,-1,-1],[-1,1,-1],[-1,-1,1],[1,1,1],[2,2,2]])\n",
    "# alpha = 100\n",
    "# D = 1"
   ]
  },
  {
   "cell_type": "code",
   "execution_count": 9,
   "id": "bf4b4fd6",
   "metadata": {},
   "outputs": [
    {
     "name": "stdout",
     "output_type": "stream",
     "text": [
      "Generating 1-Dimensional Weighted Cech Complex\n"
     ]
    },
    {
     "name": "stderr",
     "output_type": "stream",
     "text": [
      "100%|███████████████████████████████| 262144/262144 [00:00<00:00, 311880.50it/s]\n"
     ]
    },
    {
     "name": "stdout",
     "output_type": "stream",
     "text": [
      "\tTotal Edges of Cech Graph:  41970\n",
      "\tHighest Degree of Cech Graph:  195\n",
      "Begin Computing Alpha Complex\n",
      "Preprocessing Dual Matrices:  512\n"
     ]
    },
    {
     "name": "stderr",
     "output_type": "stream",
     "text": [
      "100%|████████████████████████████████████████| 512/512 [00:01<00:00, 366.62it/s]\n"
     ]
    },
    {
     "name": "stdout",
     "output_type": "stream",
     "text": [
      "*********** BEGIN DIMENSION 0 ***********\n",
      "\tPossible Facets:  512\n"
     ]
    },
    {
     "name": "stderr",
     "output_type": "stream",
     "text": [
      "100%|██████████████████████████████████████| 512/512 [00:00<00:00, 17285.10it/s]\n"
     ]
    },
    {
     "name": "stdout",
     "output_type": "stream",
     "text": [
      "\tFinal Number of Facets:  512\n",
      "*********** BEGIN DIMENSION 1 ***********\n",
      "\tPossible Facets:  41714\n"
     ]
    },
    {
     "name": "stderr",
     "output_type": "stream",
     "text": [
      "100%|██████████████████████████████████| 41714/41714 [00:02<00:00, 20010.57it/s]\n"
     ]
    },
    {
     "name": "stdout",
     "output_type": "stream",
     "text": [
      "\tFinal Number of Facets:  2442\n",
      "*********** BEGIN DIMENSION 2 ***********\n",
      "Estimating Number of Facets for dimension  2\n",
      "\tPossible Facets:  10452\n"
     ]
    },
    {
     "name": "stderr",
     "output_type": "stream",
     "text": [
      "100%|██████████████████████████████████| 10452/10452 [00:00<00:00, 19311.54it/s]\n"
     ]
    },
    {
     "name": "stdout",
     "output_type": "stream",
     "text": [
      "\tFinal Number of Facets:  5898\n",
      "*********** BEGIN DIMENSION 3 ***********\n",
      "Estimating Number of Facets for dimension  3\n",
      "\tPossible Facets:  1178905\n"
     ]
    },
    {
     "name": "stderr",
     "output_type": "stream",
     "text": [
      "100%|██████████████████████████████| 1178905/1178905 [01:02<00:00, 18941.94it/s]\n"
     ]
    },
    {
     "name": "stdout",
     "output_type": "stream",
     "text": [
      "\tFinal Number of Facets:  16780\n"
     ]
    }
   ],
   "source": [
    "my_alpha_complex = alphatools.compute_alpha_complex(S, P, alpha, D)"
   ]
  },
  {
   "cell_type": "code",
   "execution_count": null,
   "id": "fe6c8343",
   "metadata": {},
   "outputs": [],
   "source": [
    "filtration = []\n",
    "for d in range(D + 1):\n",
    "    curr_dimension_simplicies_and_vals = my_alpha_complex[d]\n",
    "    for simplex, val_matrix in curr_dimension_simplicies_and_vals:\n",
    "        filtration.append((simplex, val_matrix[0]))"
   ]
  },
  {
   "cell_type": "code",
   "execution_count": null,
   "id": "6c23cdb2",
   "metadata": {},
   "outputs": [],
   "source": [
    "alphatools.draw_alpha_complex(my_alpha_complex, S, alpha, , points_only = False)"
   ]
  },
  {
   "cell_type": "code",
   "execution_count": null,
   "id": "56d9cca3",
   "metadata": {},
   "outputs": [],
   "source": [
    "example2 = gudhi.SimplexTree()\n",
    "for d in range(D + 1):\n",
    "    for facet, val in my_alpha_complex[d]:\n",
    "        example2.insert(facet, filtration=val)\n",
    "        \n",
    "my_persistence_alpha = example2.persistence(homology_coeff_field = 2)"
   ]
  },
  {
   "cell_type": "code",
   "execution_count": null,
   "id": "effc8800",
   "metadata": {},
   "outputs": [],
   "source": [
    "gudhi.plot_persistence_barcode(my_persistence_alpha, legend=True)\n",
    "plot.show()\n",
    "\n",
    "gudhi.plot_persistence_diagram(my_persistence_alpha, legend=True)\n",
    "plot.show()\n",
    "\n",
    "gudhi.plot_persistence_density(my_persistence_alpha, legend=True)\n",
    "plot.show()"
   ]
  },
  {
   "cell_type": "code",
   "execution_count": null,
   "id": "5f3007a7-76cf-41fd-8dcb-09b889c3b26e",
   "metadata": {},
   "outputs": [],
   "source": [
    "# for k, matrix in enumerate(bigA): \n",
    "#     print(k, matrix @ matrix.T) \n",
    "#     if k == 10:\n",
    "#         break"
   ]
  },
  {
   "cell_type": "code",
   "execution_count": null,
   "id": "22b52609-4465-40b1-811c-8a5597bf7d3c",
   "metadata": {},
   "outputs": [],
   "source": [
    "# k = 0\n",
    "# for V, A in zip(bigV, bigA):\n",
    "#     print(k, A @ S[k] - V.T)\n",
    "#     if k == 10:\n",
    "#         break\n",
    "#     k += 1"
   ]
  },
  {
   "cell_type": "code",
   "execution_count": null,
   "id": "a99a5121-d10d-45c2-968e-f3a8cd3334e4",
   "metadata": {},
   "outputs": [],
   "source": [
    "VRips = gudhi.RipsComplex(points = S, max_edge_length = alpha)\n",
    "Rips_simplex_tree_sample = VRips.create_simplex_tree(max_dimension = 3) \n",
    "rips_generator = Rips_simplex_tree_sample.get_filtration()\n",
    "my_persistence = list(rips_generator)"
   ]
  },
  {
   "cell_type": "code",
   "execution_count": null,
   "id": "809fb354-cd73-4e60-be9b-319938660e18",
   "metadata": {},
   "outputs": [],
   "source": [
    "# gudhi.plot_persistence_diagram(my_persistence, legend=True)\n",
    "# plot.show()"
   ]
  },
  {
   "cell_type": "code",
   "execution_count": null,
   "id": "de1d7555-3ecb-40e5-8646-f9a7376b624b",
   "metadata": {},
   "outputs": [],
   "source": [
    "list(rips_generator)"
   ]
  },
  {
   "cell_type": "code",
   "execution_count": null,
   "id": "d345e841-2d74-4046-bc50-29bfdef41733",
   "metadata": {},
   "outputs": [],
   "source": [
    "for simplex_1, val_1 in my_persistence: \n",
    "    toggle_found = False\n",
    "    for simplex_2, val_2 in filtration: \n",
    "        if simplex_1 == simplex_2: \n",
    "            toggle_found = True \n",
    "            if abs(val_1 - val_2) > 0.001:\n",
    "                print(\"mismatch\", simplex_1, val_1, val_2) \n",
    "    if toggle_found == False: \n",
    "        print(\"Simplex not found: \", simplex_1)"
   ]
  },
  {
   "cell_type": "code",
   "execution_count": null,
   "id": "d8e117f3-f9da-43b1-891b-57b3fd916838",
   "metadata": {},
   "outputs": [],
   "source": [
    "np.linalg.norm(S[12] - S[13])"
   ]
  },
  {
   "cell_type": "code",
   "execution_count": null,
   "id": "df824b12-37c6-4e6d-b782-3f752ea0cbfa",
   "metadata": {},
   "outputs": [],
   "source": []
  }
 ],
 "metadata": {
  "kernelspec": {
   "display_name": "Python 3 (ipykernel)",
   "language": "python",
   "name": "python3"
  },
  "language_info": {
   "codemirror_mode": {
    "name": "ipython",
    "version": 3
   },
   "file_extension": ".py",
   "mimetype": "text/x-python",
   "name": "python",
   "nbconvert_exporter": "python",
   "pygments_lexer": "ipython3",
   "version": "3.10.14"
  }
 },
 "nbformat": 4,
 "nbformat_minor": 5
}
